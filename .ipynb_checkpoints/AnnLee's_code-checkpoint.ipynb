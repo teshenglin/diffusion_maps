{
 "cells": [
  {
   "cell_type": "markdown",
   "metadata": {
    "hideCode": false,
    "hidePrompt": false
   },
   "source": [
    "# Diffusion map"
   ]
  },
  {
   "cell_type": "markdown",
   "metadata": {},
   "source": [
    "### Abstract\n",
    "\n",
    "Diffusion map is a dimensionality reduction method that find meaningful structure which points are embedded. By studying this technique $^{[1]}$ $^{[2]}$ and [Ann Lee's Matlab code](https://reurl.cc/E3Ykv), I will first introduce this method, then display the algorithm by simply convert Ann Lee's Matlab code to Python."
   ]
  },
  {
   "cell_type": "markdown",
   "metadata": {},
   "source": [
    "### Introduction\n",
    "\n",
    "For morden data sets (e.g., financial and consumer data, DNA microarrays, text documents), datas are offen high-dimensional, noisy and unordered, which makes it hard to find meaningful structures. Diffusion map is a mathematical technique for analysing and organising such data, which is done by reducing the dimension of points, that is, finding a lower-dimensional manifold which points are embedded. The new representation of points in such structure should preserve the important relationships, such as local mutual distance, between them.\n",
    "\n",
    "Unlike other method for dimensionality reduction (such as Principal Component Analysis, PCA), diffusion map is still usful when datas in data space have nonlinear shapes, since it focus on discovering the underlying manifold. In comparisons, the technique is also robust to noise perturbation and computationally inexpensive."
   ]
  },
  {
   "cell_type": "markdown",
   "metadata": {},
   "source": [
    "### Framework\n",
    "\n",
    "Given a data set $X=\\{x_1,...,x_n\\} \\in \\mathbb{R}^p$, we construct the diffusion map by using steps in the paper$^{[2]}$:"
   ]
  },
  {
   "cell_type": "markdown",
   "metadata": {},
   "source": [
    "1. ##### Define a kernel and create the kernel matrix\n",
    "\n",
    ">Consider Guassian kernel $$ k(x,y) = \\exp(-\\frac{\\lVert x-y \\rVert^2}{\\sigma}) $$\n",
    "    and define the kernel matrix $K$, with entries $ K_{ij}=k(x_{i},x_{j}) $.  \n",
    "\n",
    "Note that $K$ is a $n*n$ symmetric matrix, the value of the entries is between 0 and 1, and is equal to 0 on the diagonal. Also, it is small if two data points, $x_i$ and $x_j$, are far away from each other in the data space; and is large if opposite."
   ]
  },
  {
   "cell_type": "markdown",
   "metadata": {},
   "source": [
    "Next, we bring up the connectivity between two data points $x_i$ and $x_j$, which is consider as the probability of jumping from $x_i$ to $x_j$ in one step of random walk. The relation between probability function and kernel function is\n",
    "$$ p(x,y)=\\frac{k(x,y)}{\\sum_{y\\in X} k(x,y)} $$\n",
    "\n",
    "Define the diffusion matrix $P$, with entries $ P_{ij}=p(x_{i},x_{j}) $. Note that $P$ is not symmetric and has a discrete sequence of eigenvalues $1=\\lambda_0 > \\lvert \\lambda_1 \\rvert \\geq \\lvert \\lambda_2 \\rvert \\geq \\cdots$."
   ]
  },
  {
   "cell_type": "markdown",
   "metadata": {},
   "source": [
    "Let $$ D=\n",
    "\\left[\n",
    "\\begin{matrix}\n",
    " \\sum_{y\\in X} k(x_1,y)      &0      & \\cdots &0      \\\\\n",
    " 0      &\\sum_{y\\in X} k(x_2,y)      & \\cdots &0      \\\\\n",
    " \\vdots & \\vdots & \\ddots & \\vdots \\\\\n",
    " 0      &0      & \\cdots & \\sum_{y\\in X} k(x_n,y)     \\\\\n",
    "\\end{matrix}\n",
    "\\right]\n",
    "$$ be a $n*n$ diagonal matrix, then $ P=D^{-1}K $. Consider another matrix $Q$, define as $ Q=D^{1/2}P D^{-1/2} $, we have that\n",
    "* $Q$ is symmetric.\n",
    "* $Q$ has same eigenvalues as $P$.\n",
    "* eigenvectors of $Q$, denoted as $e_k$, are multiplied by $D^{-1/2}$ and $D^{1/2}$ to get the right and left eigenvectors of $P$ respectively."
   ]
  },
  {
   "cell_type": "markdown",
   "metadata": {
    "hideCode": false,
    "hidePrompt": false
   },
   "source": [
    "2. ##### Row normalize the kernel matrix\n",
    "\n",
    "Althouth $P$ is what we need, it is more convenient for us to compute the matrix $Q$. Since $$ Q=D^{1/2}P D^{-1/2}=D^{1/2}(D^{-1}K) D^{-1/2}=D^{-1/2}K D^{-1/2} $$, \n",
    "it means that we should \n",
    ">divide entries of $K$ by the product of root number of the sum of the related row and column to get the matrix $Q$."
   ]
  },
  {
   "cell_type": "markdown",
   "metadata": {},
   "source": [
    "By taking powers of $P$, we increase the number of steps taken, that is, $P_{ij}^{t}$ sum all paths that take $t$ steps from $x_i$ to $x_j$, this is called the diffusion process.\n",
    "\n",
    "When increasing value $t$, the probability of following a path along the underlying geometric structure of the data set increases, since along the geometric structure, points are dense and therefore highly connected, pathways form along short and high probability jumps.\n",
    "\n",
    "Now, we define the diffusion distance\n",
    "$$ D_t(x_i,x_j)^2 = \\sum_{u\\in X}\\lvert p_t(x_i,u)-p_t(u,x_j)\\rvert^2 =\n",
    "\\sum_{k=1}^{n}\\lvert P_{ik}^t-P_{kj}^t \\rvert^2 $$\n",
    "It is small if there are many high probability paths of taking $t$ steps from one point to another."
   ]
  },
  {
   "cell_type": "markdown",
   "metadata": {},
   "source": [
    "3. ##### Find eigenvectors and eigenvalues of the diffusion matrix\n",
    "\n",
    "As we mention earlier,\n",
    ">the eigenvalues of $P$ is equal to the eigenvalues of $Q$, and the right and left eigenvectors of $P$ are\n",
    "$$ \\psi_k=D^{-1/2} e_k , \\phi_k=D^{1/2} e_k $$ respectively."
   ]
  },
  {
   "cell_type": "markdown",
   "metadata": {},
   "source": [
    "4. ##### Get the diffusion map and treat each row as a point coordinate\n",
    "\n",
    ">We define a diffusion map $Y$, which maps corrdinates between data and diffusion space, with its column $$ Y_i=\n",
    "\\left[\n",
    "\\begin{matrix}\n",
    " p_t(x_i,x_1)  \\\\\n",
    " p_t(x_i,x_2)  \\\\\n",
    " \\vdots        \\\\\n",
    " p_t(x_i,x_n)  \\\\\n",
    "\\end{matrix}\n",
    "\\right]\n",
    "=\n",
    "\\left[\n",
    "\\begin{matrix}\n",
    " \\lambda_i^t \\psi_i  \\\\\n",
    "\\end{matrix}\n",
    "\\right]\n",
    "= P_{i}^t $$\n",
    "\n",
    "For this map, $$ \\lVert Y_i-Y_j \\rVert_E^2 = \\sum_{u\\in X}\\lvert p_t(x_i,u)-p_t(x_j,u)\\rvert^2 = \n",
    "\\sum_{k=1}^{n}\\lvert P_{ik}^t-P_{kj}^t \\rvert^2 = D_t(x_i,x_j)^2 $$\n",
    "the diffusion distance in data space simply become the Euclidean distance in the diffusion space.\n",
    "\n",
    "Dimensional reduction is done by neglecting certain dimensions in the diffusion space, since the eigenvalues indicate the importance of each dimension, and is arrange in descending power as we mention earlier."
   ]
  },
  {
   "cell_type": "markdown",
   "metadata": {},
   "source": [
    "### Implement\n",
    "\n",
    "This is a Python code simply convert from [Ann Lee's Matlab code](https://reurl.cc/E3Ykv). Some of its functions are defined differently as above, I will note them when it does."
   ]
  },
  {
   "cell_type": "markdown",
   "metadata": {
    "hideCode": false,
    "hidePrompt": false
   },
   "source": [
    "1. #### import some libraries for programming, then load the data"
   ]
  },
  {
   "cell_type": "code",
   "execution_count": 2,
   "metadata": {
    "hideCode": false,
    "hideOutput": true,
    "hidePrompt": false
   },
   "outputs": [
    {
     "name": "stdout",
     "output_type": "stream",
     "text": [
      "Populating the interactive namespace from numpy and matplotlib\n"
     ]
    }
   ],
   "source": [
    "%pylab inline"
   ]
  },
  {
   "cell_type": "code",
   "execution_count": 3,
   "metadata": {
    "hideCode": false,
    "hidePrompt": false
   },
   "outputs": [
    {
     "data": {
      "image/png": "[encoded data removed]",
      "text/plain": [
       "<Figure size 432x432 with 1 Axes>"
      ]
     },
     "metadata": {
      "needs_background": "light"
     },
     "output_type": "display_data"
    }
   ],
   "source": [
    "from scipy.io import loadmat\n",
    "\n",
    "ori = loadmat('Data/Data2.mat')\n",
    "\n",
    "n = len(ori['data'])       #number of points\n",
    "p = len(ori['data'][0])    #dimension of points\n",
    "\n",
    "for i in range(n):\n",
    "    plt.scatter(ori['data'][i][0],ori['data'][i][1], s=2, c=\"blue\")\n",
    "plt.title(\"Original data\")\n",
    "plt.gcf().set_size_inches(6,6)\n",
    "plt.show()"
   ]
  },
  {
   "cell_type": "markdown",
   "metadata": {
    "hideCode": false,
    "hidePrompt": false
   },
   "source": [
    "2. #### Construct diffusion map"
   ]
  },
  {
   "cell_type": "markdown",
   "metadata": {},
   "source": [
    "######  2.1 Define functions"
   ]
  },
  {
   "cell_type": "markdown",
   "metadata": {},
   "source": [
    "The functioning of get_K is to get the Guassian kernel matrix."
   ]
  },
  {
   "cell_type": "code",
   "execution_count": 1,
   "metadata": {
    "hideCode": false,
    "hidePrompt": false
   },
   "outputs": [],
   "source": [
    "def get_K(D, sigma):\n",
    "    list1=[]\n",
    "\n",
    "    for i in range(n):\n",
    "        for j in range(n):\n",
    "            list1.append( exp(-D[i][j]*D[i][j]/sigma) )\n",
    "    K = array(list1).reshape(n, n)\n",
    "    \n",
    "    return K    #Guassian kernel matrix"
   ]
  },
  {
   "cell_type": "markdown",
   "metadata": {},
   "source": [
    "The functioning of get_Q is to get matrix $Q$ we mention above."
   ]
  },
  {
   "cell_type": "code",
   "execution_count": 5,
   "metadata": {
    "hideCode": false,
    "hidePrompt": false
   },
   "outputs": [],
   "source": [
    "from scipy.sparse import csr_matrix\n",
    "\n",
    "def get_Q(K):\n",
    "    list1=[]\n",
    "    list2=[]\n",
    "    \n",
    "    for i in range(n): list1.append( sqrt(sum(K[i])) )\n",
    "    v = array(list1).reshape(n,1)    #v is a matrix helps normalize K\n",
    "    \n",
    "    Q = K/(v*v.T)    #v*v.T is a n*n symmetric matrix.\n",
    "                     #the multiplication and division is applied to each element,\n",
    "                     #not the matrix operations.\n",
    "    \n",
    "    #turn Q into a sparse matrix to speed up calculation\n",
    "    threshold = 5e-6\n",
    "    for i in range(n):\n",
    "        for j in range(n):\n",
    "            if Q[i][j]>threshold: list2.append(1.)\n",
    "            else: list2.append(0.)\n",
    "    a = array(list2).reshape(n, n)\n",
    "    Q = csr_matrix(Q*a, dtype=float)\n",
    "    \n",
    "    return Q    #Q is the matrix we define earlier, i.e., Q=D^(-1/2)KD^(-1/2)"
   ]
  },
  {
   "cell_type": "markdown",
   "metadata": {},
   "source": [
    "The functioning of get_eig to get the eigenvalues and eigenvectors of diffusion matrix.  \n",
    "<span style=\"color:red\">But unlike the paper$^{[2]}$</span>, Ann Lee computes eigenvectors of $Q$, then multiply and divide entries of the eigenvectors matrix by the corresponding row of the first eigenvector, respectively, to get diffusion matrix's right and left eigenvectors."
   ]
  },
  {
   "cell_type": "code",
   "execution_count": 6,
   "metadata": {
    "hideCode": false,
    "hidePrompt": false
   },
   "outputs": [],
   "source": [
    "from scipy.sparse.linalg import svds\n",
    "\n",
    "def get_eig(Q, c):\n",
    "    list1=[]\n",
    "    list2=[]\n",
    "    \n",
    "    [U, S, V] = svds(Q,c+1)    #compute the largest c singular values/vectors for a sparse matrix\n",
    "                               #since Q is a real symmetric matrix, singular values and non-negative\n",
    "                               #eigenvalues coincide\n",
    "\n",
    "    eigenvals = flip(S).reshape(c+1,1)    #eigenvalues of diff matrix\n",
    "    \n",
    "    for i in range(n): U[i]=flip(U[i])\n",
    "    for i in range(n):\n",
    "        for j in range(c+1):\n",
    "            list1.append(U[i][j]/U[i][0])\n",
    "            list2.append(U[i][j]*U[i][0])\n",
    "            \n",
    "    psi = array(list1).reshape(n, c+1)    #right eigenvectors of diff matrix\n",
    "    phi = array(list2).reshape(n, c+1)    #left eigenvectors of diff matrix\n",
    "\n",
    "    \n",
    "    return [psi, phi, eigenvals]    #eigenvalues and eigenvectors of diff matrix"
   ]
  },
  {
   "cell_type": "markdown",
   "metadata": {},
   "source": [
    "The functioning of get_Y is to get the diffusion map.  \n",
    "<span style=\"color:red\">But unlike the paper$^{[2]}$</span>, Ann Lee multiply each column by a function of related eigenvalues, which I thought is to increase the effect of the importance of eigenvalues."
   ]
  },
  {
   "cell_type": "code",
   "execution_count": 7,
   "metadata": {
    "hideCode": false,
    "hidePrompt": false
   },
   "outputs": [],
   "source": [
    "def get_Y(eigenvals, c, psi, t):\n",
    "    list1=[]\n",
    "    \n",
    "    if t!=0:\n",
    "        for i in range(n):\n",
    "            for j in range(c):\n",
    "                list1.append(psi[i][j]*pow(eigenvals[j], t))\n",
    "        Y = array(list1).reshape(n, c)\n",
    "    else:\n",
    "        for i in range(n):\n",
    "            for j in range(c):\n",
    "                list1.append( psi[i][j+1]*(eigenvals[j+1]/(1-eigenvals[j+1])) )\n",
    "        Y = array(list1).reshape(n, c)\n",
    "        \n",
    "    return Y    #Y is the diffusion map"
   ]
  },
  {
   "cell_type": "markdown",
   "metadata": {
    "hideCode": false,
    "hidePrompt": false
   },
   "source": [
    "###### 2.2 Set parameters for diffusion map\n",
    "\n",
    "D : a n*n matrix with pairwise Euclidean distance as its entries  \n",
    "sigma : parameter $\\sigma$ in the Guassian kernel function  \n",
    "c : the largest $c$ eigenvalues, that is, the largest dimension we consider  \n",
    "t : parameter $t$ in the diffusion process\n",
    "\n",
    "We can guess the correct sigma by considering the distance between one point to its k-nearest neighbor point."
   ]
  },
  {
   "cell_type": "code",
   "execution_count": 8,
   "metadata": {
    "hideCode": false,
    "hidePrompt": false
   },
   "outputs": [],
   "source": [
    "from scipy.spatial.distance import squareform, pdist\n",
    "D = squareform(pdist(ori['data']))\n",
    "sigma=0.001\n",
    "c=10\n",
    "t=0\n",
    "flag_t=0"
   ]
  },
  {
   "cell_type": "code",
   "execution_count": 9,
   "metadata": {
    "hideCode": false,
    "hidePrompt": false
   },
   "outputs": [
    {
     "name": "stdout",
     "output_type": "stream",
     "text": [
      "suggest sigma =  0.00109191961118094\n"
     ]
    }
   ],
   "source": [
    "#guess the correct sigma\n",
    "D_sort = sort(D,1)\n",
    "k = 30    #k-nearest point of one point\n",
    "\n",
    "dist_k=[]    #distance between one point and its k-nearest neighbor point\n",
    "for i in range(len(D_sort)): dist_k.append( D_sort[i][k+1] )\n",
    "    \n",
    "sigma = median(dist_k)*median(dist_k)/8    #guessed sigma\n",
    "print(\"suggest sigma = \", sigma)"
   ]
  },
  {
   "cell_type": "markdown",
   "metadata": {},
   "source": [
    "###### 2.3 Conclude the steps above and display the result"
   ]
  },
  {
   "cell_type": "code",
   "execution_count": 10,
   "metadata": {
    "hideCode": false,
    "hidePrompt": false
   },
   "outputs": [],
   "source": [
    "def diffuse(D, sigma, c, t):\n",
    "    \n",
    "    K = get_K(D, sigma)\n",
    "    Q = get_Q(K)\n",
    "    [psi, phi, eigenvals] = get_eig(Q, c)\n",
    "    Y = get_Y(eigenvals, c, psi, t)\n",
    "\n",
    "    return Y, eigenvals, psi, phi"
   ]
  },
  {
   "cell_type": "code",
   "execution_count": 11,
   "metadata": {
    "hideCode": false,
    "hidePrompt": false
   },
   "outputs": [],
   "source": [
    "Y, eigenvals, psi, phi = diffuse(D, sigma, c, t)"
   ]
  },
  {
   "cell_type": "markdown",
   "metadata": {
    "hideCode": false,
    "hidePrompt": false
   },
   "source": [
    "Show the fall-off of eigenvalues."
   ]
  },
  {
   "cell_type": "code",
   "execution_count": 12,
   "metadata": {
    "hideCode": false,
    "hidePrompt": false
   },
   "outputs": [
    {
     "data": {
      "image/png": "[encoded data removed]",
      "text/plain": [
       "<Figure size 432x216 with 1 Axes>"
      ]
     },
     "metadata": {
      "needs_background": "light"
     },
     "output_type": "display_data"
    },
    {
     "data": {
      "image/png": "[encoded data removed]",
      "text/plain": [
       "<Figure size 432x216 with 1 Axes>"
      ]
     },
     "metadata": {
      "needs_background": "light"
     },
     "output_type": "display_data"
    }
   ],
   "source": [
    "plt.plot(range(1,c+1),eigenvals[1:c+1])\n",
    "plt.title('Fall-off of non-trivial eigenvalues')\n",
    "plt.ylabel('$\\lambda$')\n",
    "plt.gcf().set_size_inches(6,3)\n",
    "plt.show()\n",
    "\n",
    "if flag_t:\n",
    "    plt.plot(range(1,c+1), pow(eigenvals[1:c+1], t))\n",
    "    plt.ylabel('$\\lambda$^t')\n",
    "else:\n",
    "    plt.plot(range(1,c+1), eigenvals[1:c+1]/(1-eigenvals[1:c+1]) )\n",
    "    ylabel('$\\lambda$ / (1-$\\lambda$)')\n",
    "plt.gcf().set_size_inches(6,3)\n",
    "plt.show()"
   ]
  },
  {
   "cell_type": "markdown",
   "metadata": {
    "hideCode": false,
    "hidePrompt": false
   },
   "source": [
    "Show the diffusion space."
   ]
  },
  {
   "cell_type": "code",
   "execution_count": 13,
   "metadata": {
    "hideCode": false,
    "hidePrompt": false
   },
   "outputs": [
    {
     "data": {
      "image/png": "[encoded data removed]",
      "text/plain": [
       "<Figure size 432x288 with 1 Axes>"
      ]
     },
     "metadata": {
      "needs_background": "light"
     },
     "output_type": "display_data"
    }
   ],
   "source": [
    "from mpl_toolkits.mplot3d import Axes3D\n",
    "\n",
    "fig = plt.figure()\n",
    "ax = Axes3D(fig)\n",
    "for i in range(n): ax.scatter(Y[i][0],Y[i][1],Y[i][2],s=2, c='b')\n",
    "ax.set_title('Embedding with first 3 diffusion coordinates')\n",
    "plt.show()"
   ]
  },
  {
   "cell_type": "markdown",
   "metadata": {
    "hideCode": false,
    "hidePrompt": false
   },
   "source": [
    "3. #### Clustering using diffusion map"
   ]
  },
  {
   "cell_type": "markdown",
   "metadata": {},
   "source": [
    "###### 3.1 Set parameters"
   ]
  },
  {
   "cell_type": "code",
   "execution_count": 14,
   "metadata": {
    "hideCode": false,
    "hidePrompt": false
   },
   "outputs": [],
   "source": [
    "k=3           #number of clusters\n",
    "Niter=100     #number of iterations to repeat the clustering with new IC\n",
    "epsilon=1e-3  #relative distortion\n",
    "\n",
    "list1=[]\n",
    "for i in range(n): list1.append(phi[i][0])\n",
    "phi0=array(list1).reshape(n,1)    #first left eigenvector of P"
   ]
  },
  {
   "cell_type": "markdown",
   "metadata": {},
   "source": [
    "###### 3.2 Set functions"
   ]
  },
  {
   "cell_type": "code",
   "execution_count": 15,
   "metadata": {
    "hideCode": false,
    "hidePrompt": false
   },
   "outputs": [],
   "source": [
    "from math import ceil\n",
    "import random as rnd\n",
    "\n",
    "def diffusion_kmeans(Y, k, phi0, Niter, epsilon):\n",
    "    \n",
    "    d=len(Y[0])\n",
    "    aD=Inf\n",
    "\n",
    "    for i in range(Niter):\n",
    "        tmp_ind = rnd.sample(range(n), k)\n",
    "        \n",
    "        list1=[]\n",
    "        for p in tmp_ind:\n",
    "            for q in range(d):\n",
    "                list1.append(Y[p-1][q])\n",
    "        c_0 = array(list1).reshape(k, d)\n",
    "    \n",
    "        idx, c, cindex, D, DX = distortionMinimization(Y, phi0, k, c_0, 0, epsilon)\n",
    "\n",
    "        if D<aD:\n",
    "            aD=D\n",
    "            aDX=DX\n",
    "            a_idx=idx\n",
    "            ac=c\n",
    "    D=aD\n",
    "    DX=aDX\n",
    "    idx=a_idx\n",
    "    C=ac\n",
    "    \n",
    "    return idx, C, D, DX"
   ]
  },
  {
   "cell_type": "code",
   "execution_count": 16,
   "metadata": {
    "hideCode": false,
    "hidePrompt": false
   },
   "outputs": [],
   "source": [
    "def distortionMinimization(Y, phi0, k, c_0, DspFlag, epsilon):\n",
    "    list1=[]\n",
    "    list2=[]\n",
    "    list3=[]\n",
    "    \n",
    "    d=len(Y[0])\n",
    "    c=c_0\n",
    "    oldD=Inf\n",
    "    MaxIter=1000\n",
    "    \n",
    "    for i in range(MaxIter):\n",
    "        for j in range(k):\n",
    "            for p in range(n):\n",
    "                for q in range(d):\n",
    "                    list1.append(Y[p][q]-c[j][q])\n",
    "            dX = (array(list1).reshape(n,d)).T    #dX=dX.T\n",
    "            list1.clear()\n",
    "            \n",
    "            list2.append(sum(dX.conj()*dX,axis=0))\n",
    "        DX = (array(list2).reshape(k,n)).T\n",
    "        list2.clear()\n",
    "        \n",
    "        for j in range(n):\n",
    "            list1.append(min(DX[j]))\n",
    "            list2.append(argmin(DX[j])+1)\n",
    "        Dtmp = array(list1).reshape(1,n)\n",
    "        S = array(list2).reshape(n,1)\n",
    "        \n",
    "        list1.clear()\n",
    "        list2.clear()\n",
    "        \n",
    "        ind=[]\n",
    "        for j in range(k):\n",
    "            for p in range(n):\n",
    "                if S[p]==j+1: ind.append(p)\n",
    "            if len(ind)==0:\n",
    "                mx = max(Dtmp[0])\n",
    "                m = argmax(Dtmp[0])\n",
    "                S[m][0] = j+1\n",
    "                Dtmp[0][m] = 0\n",
    "            ind.clear()\n",
    "\n",
    "        for j in range(k):\n",
    "            for p in range(n):\n",
    "                if S[p]==j+1: ind.append(p)\n",
    "            for p in range(d):\n",
    "                tempsum=0\n",
    "                tempsum2=0\n",
    "                for q in ind: tempsum += phi0[q][0]\n",
    "                for q in ind: tempsum2 += phi0[q][0]*Y[q][p]/tempsum\n",
    "                list3.append(tempsum2)\n",
    "            ind.clear()\n",
    "        c = array(list3).reshape(k,d)\n",
    "        \n",
    "        list3.clear()\n",
    "        \n",
    "        D = dot(Dtmp, phi0)\n",
    "        \n",
    "        \n",
    "        if (oldD-D)/D < epsilon: break\n",
    "        oldD=D\n",
    "        \n",
    "        \n",
    "    for j in range(k):\n",
    "        for p in range(n):\n",
    "            for q in range(d):\n",
    "                list1.append(Y[p][q]-c[j][q])\n",
    "        dX = (array(list1).reshape(n,d)).T    #dX=dX.T\n",
    "        list1.clear()\n",
    "        list2.append(sum(dX.conj()*dX,axis=0))\n",
    "        DX = array(list2).reshape(n,1)\n",
    "        list2.clear()\n",
    "            \n",
    "        dummy = min(DX.T[0])\n",
    "        list3.append( argmin(DX.T[0]) )\n",
    "    cindex = array(list3).reshape(k,1)\n",
    "    \n",
    "    \n",
    "    return S, c, cindex, D, DX"
   ]
  },
  {
   "cell_type": "markdown",
   "metadata": {
    "hideCode": false,
    "hidePrompt": false
   },
   "source": [
    "###### 3.3 Show the result"
   ]
  },
  {
   "cell_type": "code",
   "execution_count": 17,
   "metadata": {
    "hideCode": false,
    "hidePrompt": false
   },
   "outputs": [],
   "source": [
    "idx, C, ERR, DX = diffusion_kmeans(Y, k, phi0, Niter, epsilon)"
   ]
  },
  {
   "cell_type": "code",
   "execution_count": 18,
   "metadata": {
    "hideCode": false,
    "hidePrompt": false
   },
   "outputs": [
    {
     "data": {
      "image/png": "[encoded data removed]",
      "text/plain": [
       "<Figure size 432x432 with 1 Axes>"
      ]
     },
     "metadata": {
      "needs_background": "light"
     },
     "output_type": "display_data"
    }
   ],
   "source": [
    "cmap = cm.brg\n",
    "norm = Normalize(1, k)\n",
    "\n",
    "for i in range(n):\n",
    "    plt.scatter(ori['data'][i][0], ori['data'][i][1], s=2, c=cmap(norm(idx[i])) )\n",
    "\n",
    "plt.title('sigma=0.001')\n",
    "plt.gcf().set_size_inches(6,6)\n",
    "plt.show()"
   ]
  },
  {
   "cell_type": "markdown",
   "metadata": {},
   "source": [
    "### References\n",
    "\n",
    "[1] R.R. Coifman and S. Lafon, Diffusion maps, 21(1):5–30, 2006  \n",
    "[2] J. de la Porte, B. M. Herbst, W. Hereman, S. J. van der Walt., An Introduction to Diffusion Maps"
   ]
  },
  {
   "cell_type": "code",
   "execution_count": null,
   "metadata": {},
   "outputs": [],
   "source": []
  }
 ],
 "metadata": {
  "hide_code_all_hidden": false,
  "kernelspec": {
   "display_name": "Python 3",
   "language": "python",
   "name": "python3"
  },
  "language_info": {
   "codemirror_mode": {
    "name": "ipython",
    "version": 3
   },
   "file_extension": ".py",
   "mimetype": "text/x-python",
   "name": "python",
   "nbconvert_exporter": "python",
   "pygments_lexer": "ipython3",
   "version": "3.7.3"
  }
 },
 "nbformat": 4,
 "nbformat_minor": 2
}
