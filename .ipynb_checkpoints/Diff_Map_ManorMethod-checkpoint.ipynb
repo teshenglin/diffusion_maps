{
 "cells": [
  {
   "cell_type": "markdown",
   "metadata": {},
   "source": [
    "# Diffusion maps with Self-Tuning"
   ]
  },
  {
   "cell_type": "markdown",
   "metadata": {},
   "source": [
    "## Abstract\n",
    "\n",
    "I have a basic understanding of the diffusion map [1] after converting [Ann Lee's Matlab code](https://reurl.cc/E3Ykv) into Python (see my privious project). Next, I focus on studying a better version of constructing a diffusion map [3]. In the following article, I will show how this better algorithm build up the diffusion map step by step, then demonstrate it with Python code. After that, I will consolidate what I learn and make a more complete version of discribing diffusion maps, including demonstrate my own code, in the next project."
   ]
  },
  {
   "cell_type": "markdown",
   "metadata": {},
   "source": [
    "## Introduction to Local Scaling\n",
    "\n",
    "The scaling parameter $\\sigma$ is some measure of when two points are considered similar, it is often picked manually. [3] suggested that instead of selecting a single scaling parameter $\\sigma$, we should calculate local scaling parameter $\\sigma_i$ for each data point $x_i$, it allows self-tuning of the point-to-point distances.\n",
    "\n",
    "The selection of $\\sigma_i$ can be done by studying the local statistics of the neighborhood of point $x_i$.A simple choice is $ \\sigma_i=d(x_i,x_s) $, where $x_s$ is the $s$'th neighbor of point $x_i$, and by [3]'s experiments, $s=7$ can gave good results for all datas."
   ]
  },
  {
   "cell_type": "markdown",
   "metadata": {},
   "source": [
    "## Framework\n",
    "\n",
    "Given a data set $X=\\{x_1,...,x_n\\} \\in \\mathbb{R}^p$, we construct the diffusion map by using following steps (A better version of Ng-Jordan-Weiss(NJW) algorithm provided in [3]):"
   ]
  },
  {
   "cell_type": "markdown",
   "metadata": {},
   "source": [
    "### 1. Define a kernel and create the kernel matrix\n",
    "\n",
    "Consider Guassian kernel $$ k(x_{i},x_{j}) = \\exp(-\\frac{\\lVert x_{i}-x_{j} \\rVert^2}{\\sigma_i \\sigma_j}) $$\n",
    "where $ \\sigma_i=\\lVert x_i-x_s \\rVert^2 $ and $x_s$ is the $s$'th neighbor of point $x_i$. Define the kernel matrix $K$, with entries $ K_{ij}=k(x_{i},x_{j}) $."
   ]
  },
  {
   "cell_type": "markdown",
   "metadata": {},
   "source": [
    "### 2. Find the normalize affinity matrix $Q$\n",
    "\n",
    "Define $D$ to be a $n*n$ diagonal matrix with $$ D_{ii}=(\\sum_{j=1}^n K_{ij})^{1/2}, $$\n",
    "and construct the normalize affinity matrix $$ Q=D^{-1}KD^{-1}. $$"
   ]
  },
  {
   "cell_type": "markdown",
   "metadata": {},
   "source": [
    "### 3. Find eigenvectors of $Q$ and form the matrix $Z$\n",
    "\n",
    "Simply compute the first $c$ largest eigenvalues of $Q$ and get the corresponding eigenvectors, $e_1,...,e_c$, then define the matrix $$Z=\n",
    "\\left[\n",
    "\\begin{matrix} e_1 &e_2 &\\cdots &e_c \\end{matrix}\n",
    "\\right]\n",
    "\\in \\mathbb{R}^{n \\times c}\n",
    "$$"
   ]
  },
  {
   "cell_type": "markdown",
   "metadata": {},
   "source": [
    "### 4. Define a diffusion map and treat each row as a point coordinate\n",
    "\n",
    "Let $Y$ be a diffusion map, which map corrdinates between data and diffusion space [2], with its column\n",
    "$$ Y_{ij}=\\frac{Z_{ij}}{\\sqrt{\\sum_{j=1}^{c} Z_{ij}^2}} $$  \n",
    "It is the row-normalize matrix of $Z$."
   ]
  },
  {
   "cell_type": "markdown",
   "metadata": {},
   "source": [
    "### 5. Cluster via k-means\n",
    "\n",
    "Using k-means function to get the labeling of the datas, here k is a manually select number of groups."
   ]
  },
  {
   "cell_type": "markdown",
   "metadata": {},
   "source": [
    "## Implementation\n",
    "\n",
    "Python code that implement diffusion maps using the steps above."
   ]
  },
  {
   "cell_type": "markdown",
   "metadata": {},
   "source": [
    "### 1. Import some libraries for programming"
   ]
  },
  {
   "cell_type": "code",
   "execution_count": 1,
   "metadata": {},
   "outputs": [
    {
     "name": "stdout",
     "output_type": "stream",
     "text": [
      "Populating the interactive namespace from numpy and matplotlib\n"
     ]
    }
   ],
   "source": [
    "%pylab inline"
   ]
  },
  {
   "cell_type": "markdown",
   "metadata": {},
   "source": [
    "### 2. Define functions"
   ]
  },
  {
   "cell_type": "markdown",
   "metadata": {},
   "source": [
    "The functioning of get_K is to get the Guassian kernel matrix."
   ]
  },
  {
   "cell_type": "code",
   "execution_count": 2,
   "metadata": {
    "hideCode": false,
    "hidePrompt": false
   },
   "outputs": [],
   "source": [
    "def get_K(D, sigma):\n",
    "    list1=[]\n",
    "\n",
    "    for i in range(n):\n",
    "        for j in range(n):\n",
    "            list1.append( exp(-D[i][j]*D[i][j]/(sigma[i]*sigma[j])) )\n",
    "    K = array(list1).reshape(n, n)\n",
    "    \n",
    "    return K    #Guassian kernel matrix"
   ]
  },
  {
   "cell_type": "markdown",
   "metadata": {},
   "source": [
    "The functioning of get_Q is to get the matrix $Q$ we mention above."
   ]
  },
  {
   "cell_type": "code",
   "execution_count": 3,
   "metadata": {
    "hideCode": false,
    "hidePrompt": false
   },
   "outputs": [],
   "source": [
    "def get_Q(K):\n",
    "    list1=[]\n",
    "    \n",
    "    for i in range(n): list1.append( sqrt(sum(K[i])) )\n",
    "    D = diag(list1)\n",
    "    Q = dot( dot(inv(D), K), inv(D) )\n",
    "    \n",
    "    return Q    #Q is the matrix we define earlier, i.e., Q=D^(-1)KD^(-1)"
   ]
  },
  {
   "cell_type": "markdown",
   "metadata": {},
   "source": [
    "The functioning of get_eig is to get the eigenvectors of $Q$. "
   ]
  },
  {
   "cell_type": "code",
   "execution_count": 4,
   "metadata": {
    "hideCode": false,
    "hidePrompt": false
   },
   "outputs": [],
   "source": [
    "from scipy.sparse.linalg import svds\n",
    "\n",
    "def get_eig(Q, c):\n",
    "    [Z, S, V] = svds(Q, c)  #compute the largest c singular values/vectors for a sparse matrix\n",
    "                            #since Q is a real symmetric matrix, singular values and non-negative\n",
    "                            #eigenvalues coincide\n",
    "\n",
    "    for i in range(n): Z[i]=flip(Z[i])\n",
    "    \n",
    "    return Z    #matrix of eigenvectors of Q"
   ]
  },
  {
   "cell_type": "markdown",
   "metadata": {},
   "source": [
    "The functioning of get_Y is to construct the diffusion map."
   ]
  },
  {
   "cell_type": "code",
   "execution_count": 5,
   "metadata": {
    "hideCode": false,
    "hidePrompt": false
   },
   "outputs": [],
   "source": [
    "def get_Y(Z, c):\n",
    "    list1=[]\n",
    "    \n",
    "    for i in range(n):\n",
    "        tempsum=0\n",
    "        for j in range(c): tempsum = tempsum + Z[i][j]*Z[i][j]\n",
    "        for j in range(c): list1.append(sqrt(tempsum))\n",
    "    tonormalize = array(list1).reshape(n,c)\n",
    "    \n",
    "    Y = Z/tonormalize    #entries division\n",
    "       \n",
    "    return Y    #diffusion map"
   ]
  },
  {
   "cell_type": "markdown",
   "metadata": {},
   "source": [
    "The functioning of get_labels is to get the labels of data via k-means."
   ]
  },
  {
   "cell_type": "code",
   "execution_count": 6,
   "metadata": {},
   "outputs": [],
   "source": [
    "from sklearn.cluster import KMeans\n",
    "\n",
    "def get_labels(Y, clusters):\n",
    "\n",
    "    kmeans = KMeans(clusters)\n",
    "    kmeans = kmeans.fit(Y)\n",
    "    labels = array(kmeans.predict(Y)).reshape(n,1)\n",
    "\n",
    "    return labels"
   ]
  },
  {
   "cell_type": "markdown",
   "metadata": {},
   "source": [
    "### 3. Load data"
   ]
  },
  {
   "cell_type": "code",
   "execution_count": 7,
   "metadata": {
    "hideCode": false,
    "hidePrompt": false
   },
   "outputs": [
    {
     "data": {
      "image/png": "[encoded data removed]",
      "text/plain": [
       "<Figure size 432x432 with 1 Axes>"
      ]
     },
     "metadata": {
      "needs_background": "light"
     },
     "output_type": "display_data"
    }
   ],
   "source": [
    "from scipy.io import loadmat\n",
    "\n",
    "ori = loadmat('Data/Data2.mat')\n",
    "\n",
    "n = len(ori['data'])       #number of points\n",
    "p = len(ori['data'][0])    #dimension of points\n",
    "\n",
    "for i in range(n): plt.scatter(ori['data'][i][0],ori['data'][i][1], s=2, c=\"blue\")\n",
    "plt.title(\"Original data\")\n",
    "plt.gcf().set_size_inches(6,6)\n",
    "plt.show()"
   ]
  },
  {
   "cell_type": "markdown",
   "metadata": {},
   "source": [
    "### 4. Set parameters for diffusion map\n",
    "\n",
    "D : matrix of Euclidean distance of data points in $\\mathbb{R}^p$.  \n",
    "c : the largest $c$ eigenvalues, that is, the largest dimension we consider.  \n",
    "s : parameter $s$ in the Guassian kernel function.  \n",
    "sigma : a list of local scaling parameters $\\sigma_i$, which is required in the Guassian kernel function.  \n",
    "clusters : numbers of groups."
   ]
  },
  {
   "cell_type": "code",
   "execution_count": 8,
   "metadata": {
    "hideCode": false,
    "hidePrompt": false
   },
   "outputs": [],
   "source": [
    "from scipy.spatial.distance import squareform, pdist\n",
    "D = squareform(pdist(ori['data']))\n",
    "c = 5\n",
    "\n",
    "s = 7\n",
    "sigma=[]\n",
    "D_sort = sort(D,1)    # distance of one point to another arrange in descending power\n",
    "for i in range(n): sigma.append( D_sort[i][s+1] )\n",
    "    \n",
    "clusters = 3"
   ]
  },
  {
   "cell_type": "markdown",
   "metadata": {},
   "source": [
    "### 5. Calculation"
   ]
  },
  {
   "cell_type": "code",
   "execution_count": 9,
   "metadata": {
    "hideCode": false,
    "hidePrompt": false
   },
   "outputs": [],
   "source": [
    "def diffuse(D, sigma, c, clusters):\n",
    "    \n",
    "    K = get_K(D, sigma)\n",
    "    Q = get_Q(K)\n",
    "    Z = get_eig(Q, c)\n",
    "    Y = get_Y(Z, c)\n",
    "    labels = get_labels(Y, clusters)\n",
    "    \n",
    "    return Y, labels"
   ]
  },
  {
   "cell_type": "code",
   "execution_count": 10,
   "metadata": {
    "hideCode": false,
    "hidePrompt": false
   },
   "outputs": [],
   "source": [
    "Y, labels = diffuse(D, sigma, c, clusters)"
   ]
  },
  {
   "cell_type": "markdown",
   "metadata": {},
   "source": [
    "### 6. Display the result"
   ]
  },
  {
   "cell_type": "markdown",
   "metadata": {
    "hideCode": false,
    "hidePrompt": false
   },
   "source": [
    "##### 6.1. Show the diffusion space"
   ]
  },
  {
   "cell_type": "code",
   "execution_count": 11,
   "metadata": {
    "hideCode": false,
    "hidePrompt": false
   },
   "outputs": [
    {
     "data": {
      "image/png": "[encoded data removed]",
      "text/plain": [
       "<Figure size 432x288 with 1 Axes>"
      ]
     },
     "metadata": {
      "needs_background": "light"
     },
     "output_type": "display_data"
    }
   ],
   "source": [
    "from mpl_toolkits.mplot3d import Axes3D\n",
    "\n",
    "fig = plt.figure()\n",
    "ax = Axes3D(fig)\n",
    "for i in range(n): ax.scatter(Y[i][0],Y[i][1],Y[i][2],s=2, c='b')\n",
    "ax.set_title('Embedding with first 3 diffusion coordinates')\n",
    "plt.show()"
   ]
  },
  {
   "cell_type": "markdown",
   "metadata": {
    "hideCode": false,
    "hidePrompt": false
   },
   "source": [
    "##### 6.2. Show the labeling"
   ]
  },
  {
   "cell_type": "code",
   "execution_count": 12,
   "metadata": {},
   "outputs": [
    {
     "data": {
      "image/png": "[encoded data removed]",
      "text/plain": [
       "<Figure size 432x432 with 1 Axes>"
      ]
     },
     "metadata": {
      "needs_background": "light"
     },
     "output_type": "display_data"
    }
   ],
   "source": [
    "cmap = cm.brg\n",
    "norm = Normalize(1, clusters)\n",
    "\n",
    "for i in range(n):\n",
    "    plt.scatter(ori['data'][i][0], ori['data'][i][1], s=2, c=cmap(norm(labels[i]+1)) )\n",
    "plt.title('K-means with K=3')\n",
    "plt.gcf().set_size_inches(6,6)\n",
    "plt.show()"
   ]
  },
  {
   "cell_type": "markdown",
   "metadata": {},
   "source": [
    "## Conclusion\n",
    "\n",
    "Algorithm which [3] provided does not follow the original discription of diffusion map, a simple example is that its map does not related to eigenvalues of diffusion matrix, but it still came up with good results just like [Ann Lee's code]() did. It seems that there is no unique solution for constructing a diffusion map, one could adjust the algorithm due to the data they need to analyze. In the [next project](), I will then give a complete discription for diffusion map and display my algorithm."
   ]
  },
  {
   "cell_type": "markdown",
   "metadata": {},
   "source": [
    "## References\n",
    "\n",
    "[1] R.R. Coifman and S. Lafon, Diffusion maps, Applied and computational harmonic analysis, 21(1):5–30, 2006  \n",
    "[2] J. de la Porte, B. M. Herbst, W. Hereman and S. J. van der Walt., An Introduction to Diffusion Maps, Proceedings of the Nineteenth Annual Symposium of the Pattern Recognition Association of South Africa, 2008  \n",
    "[3] L. Zelnik-Manor and P. Perona, Self-Tuning Spectral Clustering, Advances in Neural Information Processing Systems 17, pp. 1601-1608, 2005, (NIPS’2004)"
   ]
  },
  {
   "cell_type": "code",
   "execution_count": null,
   "metadata": {},
   "outputs": [],
   "source": []
  }
 ],
 "metadata": {
  "hide_code_all_hidden": false,
  "kernelspec": {
   "display_name": "Python 3",
   "language": "python",
   "name": "python3"
  },
  "language_info": {
   "codemirror_mode": {
    "name": "ipython",
    "version": 3
   },
   "file_extension": ".py",
   "mimetype": "text/x-python",
   "name": "python",
   "nbconvert_exporter": "python",
   "pygments_lexer": "ipython3",
   "version": "3.7.3"
  }
 },
 "nbformat": 4,
 "nbformat_minor": 2
}
