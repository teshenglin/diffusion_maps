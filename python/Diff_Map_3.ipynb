{
 "cells": [
  {
   "cell_type": "markdown",
   "metadata": {
    "hideCode": false,
    "hidePrompt": false
   },
   "source": [
    "# Diffusion maps 3\n",
    "\n",
    "#### Author: Yu-Jie Ho, 2019"
   ]
  },
  {
   "cell_type": "markdown",
   "metadata": {},
   "source": [
    "### Abstract\n",
    "\n",
    "Diffusion map [1] is a dimensionality reduction method in order to find meaningful structure which points are embedded in. After [first sight of constructing diffusion maps](), and [an understanding of self-tuning scaling](), I will consolidate what I have learned and make a complete description for diffusion map in the following article, including the definition of diffusion matrix, diffusion distance, diffusion process and diffusion map. Then I will display the algorithm and my Python code."
   ]
  },
  {
   "cell_type": "markdown",
   "metadata": {},
   "source": [
    "### Introduction\n",
    "\n",
    "For many modern data sets (e.g., financial and consumer data, DNA microarrays, text documents), the collected data are often high-dimensional, noisy and unordered, which makes it hard to find meaningful structures. Diffusion map is a mathematical technique for analysing and organising such data, which is done by reducing the dimension of points, that is, finding a lower-dimensional manifold which points are embedded in. The new representation of points in such structure should preserve the important relationships, such as local mutual distance, between them.\n",
    "\n",
    "Unlike other method for dimensionality reduction (such as Principal Component Analysis, PCA), diffusion map is still useful when data in data space have nonlinear shapes, since it focus on discovering the underlying manifold. In comparisons, the technique is also robust to noise perturbation and computationally inexpensive."
   ]
  },
  {
   "cell_type": "markdown",
   "metadata": {},
   "source": [
    "### Framework\n",
    "\n",
    "Given a data set $X=\\{x_1,...,x_n\\} \\in \\mathbb{R}^p$, I will discribe this technique and construct it by using following steps:"
   ]
  },
  {
   "cell_type": "markdown",
   "metadata": {},
   "source": [
    "### 1. Define a kernel and create the kernel matrix\n",
    "\n",
    ">Consider Guassian kernel $$ k(x_{i},x_{j}) = \\exp(-\\frac{\\lVert x_{i}-x_{j} \\rVert^2}{\\sigma_i \\sigma_j}) $$\n",
    "where $ \\sigma_i=\\lVert x_i-x_s \\rVert^2 $ and $x_s$ is the $s$'th neighber of point $x_i$. Define the kernel matrix $K$, with entries $ K_{ij}=k(x_{i},x_{j}) $. \n",
    "\n",
    "$\\sigma_i$ is the local scaling parameter, which I have studied in the [privious project]().\n",
    "\n",
    "Note that $K$ is a $n*n$ symmetric matrix, the value of the entries is between 0 and 1, and is equal to 0 on the diagonal. Also, it is small if two data points, $x_i$ and $x_j$, are far away from each other in the data space; and is large if opposite."
   ]
  },
  {
   "cell_type": "markdown",
   "metadata": {},
   "source": [
    "Next, we bring up the connectivity between two data points $x_i$ and $x_j$, which is consider as the probability of jumping from $x_i$ to $x_j$ in one step of random walk. The relation between probability function and kernel function is\n",
    "$$ p(x,y)=\\frac{k(x,y)}{\\sum_{y\\in X} k(x,y)} $$\n",
    "\n",
    "Define the diffusion matrix $P$, with entries $ P_{ij}=p(x_{i},x_{j}) $. Note that $P$ is not symmetric and has a discrete sequence of eigenvalues $1=\\lambda_0 > \\lvert \\lambda_1 \\rvert \\geq \\lvert \\lambda_2 \\rvert \\geq \\cdots$."
   ]
  },
  {
   "cell_type": "markdown",
   "metadata": {},
   "source": [
    "Let $D$ be a $n*n$ diagonal matrix with $$ D_{ii}=(\\sum_{j=1}^n K_{ij})^{1/2}, $$\n",
    "then $ P=D^{-2}K $. Consider another matrix $Q$, define as $ Q=DP D^{-1} $, we have that\n",
    "* $Q$ is symmetric.\n",
    "* $Q$ has same eigenvalues as $P$.\n",
    "* eigenvectors of $Q$, denoted as $e_k$, are multiplied by $D^{-1}$ and $D$ to get the right and left eigenvectors of $P$ respectively."
   ]
  },
  {
   "cell_type": "markdown",
   "metadata": {
    "hideCode": false,
    "hidePrompt": false
   },
   "source": [
    "### 2. Row normalize the kernel matrix\n",
    "\n",
    "Althouth $P$ is what we need, it is more convenient for us to compute the matrix $Q$.\n",
    ">$$ Q=DP D^{-1}=D(D^{-2}K) D^{-1}=D^{-1}K D^{-1}. $$"
   ]
  },
  {
   "cell_type": "markdown",
   "metadata": {},
   "source": [
    "By taking powers of $P$, we increase the number of steps taken, that is, $P_{ij}^{t}$ sum all paths that take $t$ steps from $x_i$ to $x_j$, this is called the diffusion process.\n",
    "\n",
    "When increasing value $t$, the probability of following a path along the underlying geometric structure of the data set increases, since along the geometric structure, points are dense and therefore highly connected, pathways form along short and high probability jumps.\n",
    "\n",
    "Now, we define the diffusion distance\n",
    "$$ D_t(x_i,x_j)^2 = \\sum_{u\\in X}\\lvert p_t(x_i,u)-p_t(u,x_j)\\rvert^2 =\n",
    "\\sum_{k=1}^{n}\\lvert P_{ik}^t-P_{kj}^t \\rvert^2 $$\n",
    "It is small if there are many high probability paths of taking $t$ steps from one point to another."
   ]
  },
  {
   "cell_type": "markdown",
   "metadata": {},
   "source": [
    "### 3. Find eigenvectors and eigenvalues of the diffusion matrix\n",
    "\n",
    "As we mention earlier,\n",
    ">the eigenvalues of $P$ is equal to the eigenvalues of $Q$, and the right and left eigenvectors of $P$ are\n",
    "$$ \\psi_k=D^{-1} e_k , \\phi_k=D e_k $$ respectively."
   ]
  },
  {
   "cell_type": "markdown",
   "metadata": {},
   "source": [
    "### 4. Get the diffusion map and treat each row as a point coordinate\n",
    "\n",
    "We define a diffusion map $Y$, which maps corrdinates between data and diffusion space, with its column \n",
    "$$Y_i=\n",
    "\\begin{bmatrix}\n",
    "p_t(x_i,x_1) \\\\\n",
    "p_t(x_i,x_2) \\\\\n",
    "\\vdots       \\\\\n",
    "p_t(x_i,x_n) \\\\\n",
    "\\end{bmatrix}\n",
    "= \\left[ \\lambda_i^t \\psi_i \\right] = P_{i}^t.$$\n",
    "\n",
    "For this map, $$ \\lVert Y_i-Y_j \\rVert_E^2 = \\sum_{u\\in X}\\lvert p_t(x_i,u)-p_t(x_j,u)\\rvert^2 = \n",
    "\\sum_{k=1}^{n}\\lvert P_{ik}^t-P_{kj}^t \\rvert^2 = D_t(x_i,x_j)^2 $$\n",
    "the diffusion distance in data space simply become the Euclidean distance in the diffusion space.\n",
    "\n",
    "Dimensional reduction is done by neglecting certain dimensions in the diffusion space, since the orthogonal left eigenvectors of $P$ form a basis for the diffusion space, the eigenvalues indicate the importance of each dimension, and is arrange in descending power as we mention earlier."
   ]
  },
  {
   "cell_type": "markdown",
   "metadata": {},
   "source": [
    "## Implementation\n",
    "\n",
    "Python code that implement diffusion maps using the steps above."
   ]
  },
  {
   "cell_type": "markdown",
   "metadata": {
    "hideCode": false,
    "hidePrompt": false
   },
   "source": [
    "### 1. Import some libraries for programming"
   ]
  },
  {
   "cell_type": "code",
   "execution_count": 1,
   "metadata": {
    "hideCode": false,
    "hideOutput": true,
    "hidePrompt": false
   },
   "outputs": [
    {
     "name": "stdout",
     "output_type": "stream",
     "text": [
      "Populating the interactive namespace from numpy and matplotlib\n"
     ]
    }
   ],
   "source": [
    "%pylab inline"
   ]
  },
  {
   "cell_type": "markdown",
   "metadata": {},
   "source": [
    "### 2. Define functions"
   ]
  },
  {
   "cell_type": "markdown",
   "metadata": {},
   "source": [
    "The functioning of get_K is to get the Guassian kernel matrix."
   ]
  },
  {
   "cell_type": "code",
   "execution_count": 2,
   "metadata": {
    "hideCode": false,
    "hidePrompt": false
   },
   "outputs": [],
   "source": [
    "def get_K(Dis, sigma):\n",
    "    list1=[]\n",
    "\n",
    "    for i in range(n):\n",
    "        for j in range(n):\n",
    "            list1.append( exp(-Dis[i][j]*Dis[i][j]/(sigma[i]*sigma[j])) )\n",
    "    K = array(list1).reshape(n, n)\n",
    "    \n",
    "    return K    #Guassian kernel matrix"
   ]
  },
  {
   "cell_type": "markdown",
   "metadata": {},
   "source": [
    "The functioning of get_D is to get the diagonal matrix $D$ we mention above."
   ]
  },
  {
   "cell_type": "code",
   "execution_count": 3,
   "metadata": {},
   "outputs": [],
   "source": [
    "def get_D(K):\n",
    "    list1=[]\n",
    "    \n",
    "    for i in range(n): list1.append( sqrt(sum(K[i])) )\n",
    "    D = diag(list1)\n",
    "    \n",
    "    return D"
   ]
  },
  {
   "cell_type": "markdown",
   "metadata": {},
   "source": [
    "The functioning of get_Q is to get matrix $Q$ we mention above."
   ]
  },
  {
   "cell_type": "code",
   "execution_count": 4,
   "metadata": {
    "hideCode": false,
    "hidePrompt": false
   },
   "outputs": [],
   "source": [
    "def get_Q(K, D):\n",
    "    \n",
    "    Q = dot( dot(inv(D), K), inv(D) )\n",
    "    \n",
    "    return Q    #Q is the matrix we define earlier, i.e., Q=D^(-1)KD^(-1)"
   ]
  },
  {
   "cell_type": "markdown",
   "metadata": {},
   "source": [
    "The functioning of get_eig is to get the eigenvalues and eigenvectors of diffusion matrix $P$.  "
   ]
  },
  {
   "cell_type": "code",
   "execution_count": 5,
   "metadata": {},
   "outputs": [],
   "source": [
    "from scipy.sparse.linalg import svds\n",
    "\n",
    "def get_eig(Q, D, c):\n",
    "    [U, S, V] = svds(Q, c)    #compute the largest c singular values/vectors for a sparse matrix\n",
    "                                #since Q is a real symmetric matrix, singular values and non-negative\n",
    "                                #eigenvalues coincide\n",
    "    eigenvals = flip(S).reshape(c,1)\n",
    "    \n",
    "    for i in range(n): U[i]=flip(U[i])\n",
    "    psi = dot(inv(D), U)\n",
    "    \n",
    "    return [psi, eigenvals]    #non-trivial eigenvalues and right eigenvectors of diff matrix"
   ]
  },
  {
   "cell_type": "markdown",
   "metadata": {},
   "source": [
    "The functioning of get_Y is to get the diffusion map $Y$."
   ]
  },
  {
   "cell_type": "code",
   "execution_count": 6,
   "metadata": {
    "hideCode": false,
    "hidePrompt": false
   },
   "outputs": [],
   "source": [
    "def get_Y(psi, eigenvals, c):\n",
    "    list1=[]\n",
    "    \n",
    "    for i in range(n):\n",
    "        for j in range(c): list1.append( psi[i][j]*eigenvals[j] )\n",
    "    Y = array(list1).reshape(n, c)\n",
    "        \n",
    "    return Y    #diffusion map"
   ]
  },
  {
   "cell_type": "markdown",
   "metadata": {},
   "source": [
    "The functioning of get_labels is to get the labels of data via k-means."
   ]
  },
  {
   "cell_type": "code",
   "execution_count": 7,
   "metadata": {},
   "outputs": [],
   "source": [
    "from sklearn.cluster import KMeans\n",
    "\n",
    "def get_labels(Y, clusters):\n",
    "\n",
    "    kmeans = KMeans(clusters)\n",
    "    kmeans = kmeans.fit(Y)\n",
    "    labels = array(kmeans.predict(Y)).reshape(n,1)\n",
    "    \n",
    "    return labels"
   ]
  },
  {
   "cell_type": "markdown",
   "metadata": {},
   "source": [
    "### 3. Load data"
   ]
  },
  {
   "cell_type": "code",
   "execution_count": 8,
   "metadata": {
    "hideCode": false,
    "hidePrompt": false
   },
   "outputs": [
    {
     "data": {
      "image/png": "[encoded data removed]",
      "text/plain": [
       "<Figure size 432x432 with 1 Axes>"
      ]
     },
     "metadata": {
      "needs_background": "light"
     },
     "output_type": "display_data"
    }
   ],
   "source": [
    "from scipy.io import loadmat\n",
    "\n",
    "ori = loadmat('Data.mat')\n",
    "\n",
    "n = len(ori['data'])       #number of points\n",
    "p = len(ori['data'][0])    #dimension of points\n",
    "\n",
    "for i in range(n):\n",
    "    plt.scatter(ori['data'][i][0],ori['data'][i][1], s=2, c=\"blue\")\n",
    "plt.title(\"Original data\")\n",
    "plt.gcf().set_size_inches(6,6)\n",
    "plt.show()"
   ]
  },
  {
   "cell_type": "markdown",
   "metadata": {
    "hideCode": false,
    "hidePrompt": false
   },
   "source": [
    "### 4. Set parameters for diffusion map\n",
    "\n",
    "D : matrix of Euclidean distance of data points in $\\mathbb{R}^p$.  \n",
    "c : the largest $c$ eigenvalues, that is, the largest dimension we consider.  \n",
    "s : parameter $s$ for constructing costumize sigma.  \n",
    "sigma : a list of local scaling parameters $\\sigma_i$, which is required in the Guassian kernel function.  \n",
    "clusters : numbers of groups."
   ]
  },
  {
   "cell_type": "code",
   "execution_count": 9,
   "metadata": {
    "hideCode": false,
    "hidePrompt": false
   },
   "outputs": [],
   "source": [
    "from scipy.spatial.distance import squareform, pdist\n",
    "Dis = squareform(pdist(ori['data']))\n",
    "c = 3\n",
    "\n",
    "s = 7\n",
    "sigma=[]\n",
    "Dis_sort = sort(Dis,1)    # distance of one point to another arrange in descending power\n",
    "for i in range(n): sigma.append( Dis_sort[i][s+1] )\n",
    "    \n",
    "clusters = 3"
   ]
  },
  {
   "cell_type": "markdown",
   "metadata": {},
   "source": [
    "### 5. Calculation"
   ]
  },
  {
   "cell_type": "code",
   "execution_count": 10,
   "metadata": {
    "hideCode": false,
    "hidePrompt": false
   },
   "outputs": [],
   "source": [
    "def diffuse(Dis, sigma, c, clusters):\n",
    "    \n",
    "    K = get_K(Dis, sigma)\n",
    "    D = get_D(K)\n",
    "    Q = get_Q(K, D)\n",
    "    psi, eigenvals = get_eig(Q, D, c)\n",
    "    Y = get_Y(psi, eigenvals, c)\n",
    "    labels = get_labels(Y, clusters)\n",
    "    \n",
    "    return Y, labels"
   ]
  },
  {
   "cell_type": "code",
   "execution_count": 11,
   "metadata": {
    "hideCode": false,
    "hidePrompt": false
   },
   "outputs": [],
   "source": [
    "Y, labels = diffuse(Dis, sigma, c, clusters)"
   ]
  },
  {
   "cell_type": "markdown",
   "metadata": {},
   "source": [
    "### 6. Display the result"
   ]
  },
  {
   "cell_type": "markdown",
   "metadata": {
    "hideCode": false,
    "hidePrompt": false
   },
   "source": [
    "##### 6.1 Show the diffusion space"
   ]
  },
  {
   "cell_type": "code",
   "execution_count": 12,
   "metadata": {
    "hideCode": false,
    "hidePrompt": false
   },
   "outputs": [
    {
     "data": {
      "image/png": "[encoded data removed]",
      "text/plain": [
       "<Figure size 432x288 with 1 Axes>"
      ]
     },
     "metadata": {
      "needs_background": "light"
     },
     "output_type": "display_data"
    }
   ],
   "source": [
    "from mpl_toolkits.mplot3d import Axes3D\n",
    "\n",
    "fig = plt.figure()\n",
    "ax = Axes3D(fig)\n",
    "for i in range(n): ax.scatter(Y[i][0],Y[i][1],Y[i][2],s=2, c='b')\n",
    "ax.set_title('Embedding with first 3 diffusion coordinates')\n",
    "plt.show()"
   ]
  },
  {
   "cell_type": "markdown",
   "metadata": {
    "hideCode": false,
    "hidePrompt": false
   },
   "source": [
    "##### 6.2. Show the labeling"
   ]
  },
  {
   "cell_type": "code",
   "execution_count": 13,
   "metadata": {
    "hideCode": false,
    "hidePrompt": false
   },
   "outputs": [
    {
     "data": {
      "image/png": "[encoded data removed]",
      "text/plain": [
       "<Figure size 432x432 with 1 Axes>"
      ]
     },
     "metadata": {
      "needs_background": "light"
     },
     "output_type": "display_data"
    }
   ],
   "source": [
    "cmap = cm.brg\n",
    "norm = Normalize(1, clusters)\n",
    "\n",
    "for i in range(n):\n",
    "    plt.scatter(ori['data'][i][0], ori['data'][i][1], s=2, c=cmap(norm(labels[i]+1)) )\n",
    "plt.title('K-means with K=3')\n",
    "plt.gcf().set_size_inches(6,6)\n",
    "plt.show()"
   ]
  },
  {
   "cell_type": "markdown",
   "metadata": {},
   "source": [
    "## Conclusion\n",
    "\n",
    "We describe the full view of diffusion map, a method of dimensionality reduction. We show how to use a kernel function to recover the diffusion matrix and distance, and the relationship between diffusion distance and map. We show that in the lower-dimensional space, the structure of data still be preserved and we can analyze it more easily."
   ]
  },
  {
   "cell_type": "markdown",
   "metadata": {},
   "source": [
    "## References\n",
    "\n",
    "[1] R.R. Coifman and S. Lafon, Diffusion maps, Applied and computational harmonic analysis, 21:5–30, 2006  \n",
    "[2] J. de la Porte, B. M. Herbst, W. Hereman and S. J. van der Walt., An Introduction to Diffusion Maps, Proceedings of the Nineteenth Annual Symposium of the Pattern Recognition Association of South Africa, 2008  \n",
    "[3] L. Zelnik-Manor and P. Perona, Self-Tuning Spectral Clustering, Advances in Neural Information Processing Systems 17:1601-1608, 2005"
   ]
  },
  {
   "cell_type": "code",
   "execution_count": null,
   "metadata": {},
   "outputs": [],
   "source": []
  }
 ],
 "metadata": {
  "@webio": {
   "lastCommId": null,
   "lastKernelId": null
  },
  "hide_code_all_hidden": false,
  "kernelspec": {
   "display_name": "Python 3",
   "language": "python",
   "name": "python3"
  },
  "language_info": {
   "codemirror_mode": {
    "name": "ipython",
    "version": 3
   },
   "file_extension": ".py",
   "mimetype": "text/x-python",
   "name": "python",
   "nbconvert_exporter": "python",
   "pygments_lexer": "ipython3",
   "version": "3.7.3"
  }
 },
 "nbformat": 4,
 "nbformat_minor": 2
}
