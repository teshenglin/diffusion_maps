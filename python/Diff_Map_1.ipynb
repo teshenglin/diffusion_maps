{
 "cells": [
  {
   "cell_type": "markdown",
   "metadata": {
    "hideCode": false,
    "hidePrompt": false
   },
   "source": [
    "# Diffusion maps 1\n",
    "\n",
    "#### Author: Yu-Jie Ho, 2019"
   ]
  },
  {
   "cell_type": "markdown",
   "metadata": {
    "hideCode": false,
    "hidePrompt": false
   },
   "source": [
    "## Abstract\n",
    "\n",
    "This is my first sight to diffusion maps [1],  I study [Ann Lee's Matlab code](https://reurl.cc/E3Ykv) and simply convert it into Python. In order to understand the meaning of the code, I also read papers that describe this method [1, 2]. In the following article, I will show how Ann Lee constructs a diffusion map step by step, then demonstrate my Python code. Also, there's a paper provided a better way to build one map [3], it leads me to the [next project](), in which I will implement it's algorithm."
   ]
  },
  {
   "cell_type": "markdown",
   "metadata": {
    "hideCode": false,
    "hidePrompt": false
   },
   "source": [
    "## Framework\n",
    "\n",
    "Given a data set $X=\\{x_1,...,x_n\\} \\in \\mathbb{R}^p$, Ann Lee construct the diffusion maps by using following steps:"
   ]
  },
  {
   "cell_type": "markdown",
   "metadata": {
    "hideCode": false,
    "hidePrompt": false
   },
   "source": [
    "### 1. Define a kernel matrix\n",
    "\n",
    "Let $K$ be a kernel matrix with entries $ K_{ij}=k(x_{i},x_{j}) $, where $k$ is the Guassian kernel\n",
    "$$ k(x,y) = \\exp(-\\frac{\\lVert x-y \\rVert^2}{4\\sigma}), $$\n",
    "and $\\sigma$ is a manually picked constant."
   ]
  },
  {
   "cell_type": "markdown",
   "metadata": {},
   "source": [
    "### 2. Construct a matrix that related to diffusion matrix\n",
    "\n",
    "Diffusion matrix $P$ is a matrix that describe the connectivity between two data points, which can be consider as the probability of jumping from one point to another in one step of random walk [2].  \n",
    "Consider a matrix $Q$, with it's entries $$ Q_{ij}=\\frac{K_{ij}}{\\sqrt{\\sum_{j=1}^n K_{ij}} \\sqrt{\\sum_{i=1}^n K_{ij}}}. $$\n",
    "We can find the relation between $Q$ and $P$ in the next step."
   ]
  },
  {
   "cell_type": "markdown",
   "metadata": {
    "hideCode": false,
    "hidePrompt": false
   },
   "source": [
    "### 3. Find eigenvectors and eigenvalues of the diffusion matrix\n",
    "\n",
    "The eigenvalues of $P$ is equal to the eigenvalues of $Q$, which is arrange in descending power.  \n",
    "The right and left eigenvectors of $P$ are $$ \\psi_k=e_k * e_1 $$ $$\\phi_k=e_k / e_1 $$\n",
    "respectively, where $e_k$ is the corresponding eigenvector of the k-th eigenvalue of $Q$, $e_1$ is the eigenvector of the first eigenvalue of $Q$, and the multiplication and division is applied to each element, not the matrix operations."
   ]
  },
  {
   "cell_type": "markdown",
   "metadata": {
    "hideCode": false,
    "hidePrompt": false
   },
   "source": [
    "### 4. Define a diffusion map and treat each row as a point coordinate\n",
    "\n",
    "Let $Y$ be a diffusion map, which map corrdinates between data and diffusion space [2], with its column\n",
    "$$ Y_i=[\\frac{\\lambda_i}{1-\\lambda_i} \\psi_i] $$\n",
    "\n",
    "Dimensional reduction is done by neglecting certain dimensions in the diffusion space, since the orthogonal left eigenvectors of $P$ form a basis for the diffusion space, and the associated coefficient indicate the importance of each dimension [2]."
   ]
  },
  {
   "cell_type": "markdown",
   "metadata": {},
   "source": [
    "### 5. Cluster via k-means\n",
    "\n",
    "Using k-means method to get the labeling of the datas, here k is a manually select number of groups."
   ]
  },
  {
   "cell_type": "markdown",
   "metadata": {
    "hideCode": false,
    "hidePrompt": false
   },
   "source": [
    "## Implementation\n",
    "\n",
    "Python code that implement diffusion maps using the steps above."
   ]
  },
  {
   "cell_type": "markdown",
   "metadata": {
    "hideCode": false,
    "hidePrompt": false
   },
   "source": [
    "### 1. Import some libraries for programming"
   ]
  },
  {
   "cell_type": "code",
   "execution_count": 1,
   "metadata": {
    "hideCode": false,
    "hideOutput": true,
    "hidePrompt": false
   },
   "outputs": [
    {
     "name": "stdout",
     "output_type": "stream",
     "text": [
      "Populating the interactive namespace from numpy and matplotlib\n"
     ]
    }
   ],
   "source": [
    "%pylab inline"
   ]
  },
  {
   "cell_type": "markdown",
   "metadata": {},
   "source": [
    "### 2. Define functions"
   ]
  },
  {
   "cell_type": "markdown",
   "metadata": {},
   "source": [
    "The functioning of get_K is to get the Guassian kernel matrix."
   ]
  },
  {
   "cell_type": "code",
   "execution_count": 2,
   "metadata": {
    "hideCode": false,
    "hidePrompt": false
   },
   "outputs": [],
   "source": [
    "def get_K(D, sigma):\n",
    "    list1=[]\n",
    "\n",
    "    for i in range(n):\n",
    "        for j in range(n):\n",
    "            list1.append( exp(-D[i][j]*D[i][j]/(4*sigma)) )\n",
    "    K = array(list1).reshape(n, n)\n",
    "    \n",
    "    return K    #Guassian kernel matrix"
   ]
  },
  {
   "cell_type": "markdown",
   "metadata": {},
   "source": [
    "The functioning of get_Q is to get the matrix $Q$ we mention above."
   ]
  },
  {
   "cell_type": "code",
   "execution_count": 3,
   "metadata": {
    "hideCode": false,
    "hidePrompt": false
   },
   "outputs": [],
   "source": [
    "from scipy.sparse import csr_matrix\n",
    "\n",
    "def get_Q(K):\n",
    "    list1=[]\n",
    "    list2=[]\n",
    "    \n",
    "    for i in range(n): list1.append( sqrt(sum(K[i])) )\n",
    "    v = array(list1).reshape(n,1)    #v_i=(sum_j(K[i][j]))^(1/2)\n",
    "    \n",
    "    Q = K/(v*v.T)    #v*v.T is a n*n symmetric matrix.\n",
    "                     #the multiplication and division is applied to each element,\n",
    "                     #not the matrix operations.\n",
    "    \n",
    "    #turn Q into a sparse matrix to speed up calculation\n",
    "    threshold = 5e-6\n",
    "    for i in range(n):\n",
    "        for j in range(n):\n",
    "            if Q[i][j]>threshold: list2.append(1.)\n",
    "            else: list2.append(0.)\n",
    "    a = array(list2).reshape(n, n)\n",
    "    Q = csr_matrix(Q*a, dtype=float)\n",
    "    \n",
    "    return Q    #Q is the matrix we define earlier, i.e., Q=D^(-1/2)KD^(-1/2)"
   ]
  },
  {
   "cell_type": "markdown",
   "metadata": {},
   "source": [
    "The functioning of get_eig is to get eigenvalues and eigenvectors of the diffusion matrix."
   ]
  },
  {
   "cell_type": "code",
   "execution_count": 4,
   "metadata": {
    "hideCode": false,
    "hidePrompt": false
   },
   "outputs": [],
   "source": [
    "from scipy.sparse.linalg import svds\n",
    "\n",
    "def get_eig(Q, c):\n",
    "    list1=[]\n",
    "    list2=[]\n",
    "    \n",
    "    [U, S, V] = svds(Q, c+1)    #compute the largest c singular values/vectors for a sparse matrix\n",
    "                               #since Q is a real symmetric matrix, singular values and non-negative\n",
    "                               #eigenvalues coincide\n",
    "\n",
    "    eigenvals = flip(S).reshape(c+1,1)\n",
    "    \n",
    "    for i in range(n): U[i]=flip(U[i])\n",
    "    for i in range(n):\n",
    "        for j in range(c+1):\n",
    "            list1.append(U[i][j]/U[i][0])\n",
    "            list2.append(U[i][j]*U[i][0])\n",
    "            \n",
    "    psi = array(list1).reshape(n, c+1)\n",
    "    phi = array(list2).reshape(n, c+1)\n",
    "\n",
    "    \n",
    "    return [psi, phi, eigenvals]    #eigenvectors and eigenvalues of diff matrix"
   ]
  },
  {
   "cell_type": "markdown",
   "metadata": {},
   "source": [
    "The functioning of get_Y is to get the diffusion map."
   ]
  },
  {
   "cell_type": "code",
   "execution_count": 5,
   "metadata": {
    "hideCode": false,
    "hidePrompt": false
   },
   "outputs": [],
   "source": [
    "def get_Y(eigenvals, c, psi, t):\n",
    "    list1=[]\n",
    "    \n",
    "    if t!=0:\n",
    "        for i in range(n):\n",
    "            for j in range(c):\n",
    "                list1.append(psi[i][j+1]*pow(eigenvals[j+1], t))\n",
    "        Y = array(list1).reshape(n, c)\n",
    "    else:\n",
    "        for i in range(n):\n",
    "            for j in range(c):\n",
    "                list1.append( psi[i][j+1]*(eigenvals[j+1]/(1-eigenvals[j+1])) )\n",
    "        Y = array(list1).reshape(n, c)\n",
    "        \n",
    "    return Y    #Y is the diffusion map"
   ]
  },
  {
   "cell_type": "markdown",
   "metadata": {},
   "source": [
    "The functioning of diffusion_kmeans and distortionMinimization is to cluster via k-means."
   ]
  },
  {
   "cell_type": "code",
   "execution_count": 6,
   "metadata": {
    "hideCode": false,
    "hidePrompt": false
   },
   "outputs": [],
   "source": [
    "from math import ceil\n",
    "import random as rnd\n",
    "\n",
    "def diffusion_kmeans(Y, clusters, phi0, Niter, epsilon):\n",
    "    \n",
    "    d=len(Y[0])\n",
    "    aD=Inf\n",
    "\n",
    "    for i in range(Niter):\n",
    "        tmp_ind = rnd.sample(range(n), clusters)\n",
    "        \n",
    "        list1=[]\n",
    "        for p in tmp_ind:\n",
    "            for q in range(d):\n",
    "                list1.append(Y[p-1][q])\n",
    "        c_0 = array(list1).reshape(clusters, d)\n",
    "    \n",
    "        idx, c, cindex, D, DX = distortionMinimization(Y, phi0, clusters, c_0, 0, epsilon)\n",
    "\n",
    "        if D<aD:\n",
    "            aD=D\n",
    "            aDX=DX\n",
    "            a_idx=idx\n",
    "            ac=c\n",
    "    D=aD\n",
    "    DX=aDX\n",
    "    idx=a_idx\n",
    "    C=ac\n",
    "    \n",
    "    return idx, C, D, DX"
   ]
  },
  {
   "cell_type": "code",
   "execution_count": 7,
   "metadata": {
    "hideCode": false,
    "hidePrompt": false
   },
   "outputs": [],
   "source": [
    "def distortionMinimization(Y, phi0, clusters, c_0, DspFlag, epsilon):\n",
    "    list1=[]\n",
    "    list2=[]\n",
    "    list3=[]\n",
    "    \n",
    "    d=len(Y[0])\n",
    "    c=c_0\n",
    "    oldD=Inf\n",
    "    MaxIter=1000\n",
    "    \n",
    "    for i in range(MaxIter):\n",
    "        for j in range(clusters):\n",
    "            for p in range(n):\n",
    "                for q in range(d):\n",
    "                    list1.append(Y[p][q]-c[j][q])\n",
    "            dX = (array(list1).reshape(n,d)).T    #dX=dX.T\n",
    "            list1.clear()\n",
    "            \n",
    "            list2.append(sum(dX.conj()*dX,axis=0))\n",
    "        DX = (array(list2).reshape(clusters,n)).T\n",
    "        list2.clear()\n",
    "        \n",
    "        for j in range(n):\n",
    "            list1.append(min(DX[j]))\n",
    "            list2.append(argmin(DX[j])+1)\n",
    "        Dtmp = array(list1).reshape(1,n)\n",
    "        S = array(list2).reshape(n,1)\n",
    "        \n",
    "        list1.clear()\n",
    "        list2.clear()\n",
    "        \n",
    "        ind=[]\n",
    "        for j in range(clusters):\n",
    "            for p in range(n):\n",
    "                if S[p]==j+1: ind.append(p)\n",
    "            if len(ind)==0:\n",
    "                mx = max(Dtmp[0])\n",
    "                m = argmax(Dtmp[0])\n",
    "                S[m][0] = j+1\n",
    "                Dtmp[0][m] = 0\n",
    "            ind.clear()\n",
    "\n",
    "        for j in range(clusters):\n",
    "            for p in range(n):\n",
    "                if S[p]==j+1: ind.append(p)\n",
    "            for p in range(d):\n",
    "                tempsum=0\n",
    "                tempsum2=0\n",
    "                for q in ind: tempsum += phi0[q][0]\n",
    "                for q in ind: tempsum2 += phi0[q][0]*Y[q][p]/tempsum\n",
    "                list3.append(tempsum2)\n",
    "            ind.clear()\n",
    "        c = array(list3).reshape(clusters,d)\n",
    "        \n",
    "        list3.clear()\n",
    "        \n",
    "        D = dot(Dtmp, phi0)\n",
    "        \n",
    "        \n",
    "        if (oldD-D)/D < epsilon: break\n",
    "        oldD=D\n",
    "        \n",
    "        \n",
    "    for j in range(clusters):\n",
    "        for p in range(n):\n",
    "            for q in range(d):\n",
    "                list1.append(Y[p][q]-c[j][q])\n",
    "        dX = (array(list1).reshape(n,d)).T    #dX=dX.T\n",
    "        list1.clear()\n",
    "        list2.append(sum(dX.conj()*dX,axis=0))\n",
    "        DX = array(list2).reshape(n,1)\n",
    "        list2.clear()\n",
    "            \n",
    "        dummy = min(DX.T[0])\n",
    "        list3.append( argmin(DX.T[0]) )\n",
    "    cindex = array(list3).reshape(clusters,1)\n",
    "    \n",
    "    \n",
    "    return S, c, cindex, D, DX"
   ]
  },
  {
   "cell_type": "markdown",
   "metadata": {},
   "source": [
    "### 3. Load data"
   ]
  },
  {
   "cell_type": "code",
   "execution_count": 8,
   "metadata": {
    "hideCode": false,
    "hidePrompt": false
   },
   "outputs": [
    {
     "data": {
      "image/png": "[encoded data removed]",
      "text/plain": [
       "<Figure size 432x432 with 1 Axes>"
      ]
     },
     "metadata": {
      "needs_background": "light"
     },
     "output_type": "display_data"
    }
   ],
   "source": [
    "from scipy.io import loadmat\n",
    "\n",
    "ori = loadmat('Data.mat')\n",
    "\n",
    "n = len(ori['data'])       #number of points\n",
    "p = len(ori['data'][0])    #dimension of points\n",
    "\n",
    "for i in range(n):\n",
    "    plt.scatter(ori['data'][i][0],ori['data'][i][1], s=2, c=\"blue\")\n",
    "plt.title(\"Original data\")\n",
    "plt.gcf().set_size_inches(6,6)\n",
    "plt.show()"
   ]
  },
  {
   "cell_type": "markdown",
   "metadata": {
    "hideCode": false,
    "hidePrompt": false
   },
   "source": [
    "### 4. Set parameters and do the calculation"
   ]
  },
  {
   "cell_type": "markdown",
   "metadata": {},
   "source": [
    "##### 4.1. Set parameters for constructing a diffusion map\n",
    "\n",
    "D : a n*n matrix with pairwise Euclidean distance as its entries  \n",
    "sigma : scaling parameter $\\sigma$ in the Guassian kernel function  \n",
    "c : the largest $c$ eigenvalues, that is, the largest dimension we consider  \n",
    "t : 'time'\n",
    "\n",
    "By taking powers of $P$, we increase the number of steps taken, that is, $P_{ij}^{t}$ sum all paths that take $t$ steps from $x_i$ to $x_j$, this is called the diffusion process.  \n",
    "When increasing value $t$, the probability of following a path along the underlying geometric structure of the data set increases, since along the geometric structure, points are dense and therefore highly connected, pathways form along short and high probability jumps [2]."
   ]
  },
  {
   "cell_type": "code",
   "execution_count": 9,
   "metadata": {
    "hideCode": false,
    "hidePrompt": false
   },
   "outputs": [],
   "source": [
    "from scipy.spatial.distance import squareform, pdist\n",
    "D = squareform(pdist(ori['data']))\n",
    "c = 10\n",
    "t = 0\n",
    "flag_t = 0"
   ]
  },
  {
   "cell_type": "markdown",
   "metadata": {
    "hideCode": false,
    "hidePrompt": false
   },
   "source": [
    "Ann Lee guess the correct sigma by considering the distance between one point to its k-nearest neighbor point."
   ]
  },
  {
   "cell_type": "code",
   "execution_count": 10,
   "metadata": {
    "hideCode": false,
    "hidePrompt": false
   },
   "outputs": [
    {
     "name": "stdout",
     "output_type": "stream",
     "text": [
      "suggest sigma =  0.00436767844472376\n"
     ]
    }
   ],
   "source": [
    "#guess the correct sigma\n",
    "D_sort = sort(D,1)\n",
    "k = 30       #k-nearest point of one point\n",
    "\n",
    "dist_k=[]    #distance between one point and its k-nearest neighbor point\n",
    "for i in range(len(D_sort)): dist_k.append( D_sort[i][k+1] )\n",
    "    \n",
    "sigma = median(dist_k)*median(dist_k)/2    #guessed sigma\n",
    "print(\"suggest sigma = \", sigma)"
   ]
  },
  {
   "cell_type": "markdown",
   "metadata": {},
   "source": [
    "Manually pick one sigma."
   ]
  },
  {
   "cell_type": "code",
   "execution_count": 11,
   "metadata": {},
   "outputs": [],
   "source": [
    "sigma = 0.00025"
   ]
  },
  {
   "cell_type": "markdown",
   "metadata": {},
   "source": [
    "###### 4.2. Compute the eigenvalues and eigenvectors of diffusion matrix and get the diffusion map"
   ]
  },
  {
   "cell_type": "code",
   "execution_count": 12,
   "metadata": {
    "hideCode": false,
    "hidePrompt": false
   },
   "outputs": [],
   "source": [
    "def diffuse(D, sigma, c, t):\n",
    "    \n",
    "    K = get_K(D, sigma)\n",
    "    Q = get_Q(K)\n",
    "    [psi, phi, eigenvals] = get_eig(Q, c)\n",
    "    Y = get_Y(eigenvals, c, psi, t)\n",
    "\n",
    "    return Y, eigenvals, psi, phi"
   ]
  },
  {
   "cell_type": "code",
   "execution_count": 13,
   "metadata": {
    "hideCode": false,
    "hidePrompt": false
   },
   "outputs": [],
   "source": [
    "Y, eigenvals, psi, phi = diffuse(D, sigma, c, t)"
   ]
  },
  {
   "cell_type": "markdown",
   "metadata": {},
   "source": [
    "##### 4.3. Set parameters for clustering via k-means\n",
    "\n",
    "clusters : number of clusters  \n",
    "Niter : number of iterations to repeat the clustering with new IC  \n",
    "epsilon : relative distortion  \n",
    "phi0 : first left eigenvector of P"
   ]
  },
  {
   "cell_type": "code",
   "execution_count": 14,
   "metadata": {
    "hideCode": false,
    "hidePrompt": false
   },
   "outputs": [],
   "source": [
    "clusters=3\n",
    "Niter=100\n",
    "epsilon=1e-3\n",
    "\n",
    "list1=[]\n",
    "for i in range(n): list1.append(phi[i][0])\n",
    "phi0=array(list1).reshape(n,1)"
   ]
  },
  {
   "cell_type": "markdown",
   "metadata": {},
   "source": [
    "###### 4.4. Diffusion k-means clustering"
   ]
  },
  {
   "cell_type": "code",
   "execution_count": 15,
   "metadata": {
    "hideCode": false,
    "hidePrompt": false
   },
   "outputs": [],
   "source": [
    "idx, C, ERR, DX = diffusion_kmeans(Y, clusters, phi0, Niter, epsilon)"
   ]
  },
  {
   "cell_type": "markdown",
   "metadata": {},
   "source": [
    "### 5. Display the result"
   ]
  },
  {
   "cell_type": "markdown",
   "metadata": {
    "hideCode": false,
    "hidePrompt": false
   },
   "source": [
    "##### 5.1. Show the fall-off of eigenvalues of diffusion matrix"
   ]
  },
  {
   "cell_type": "code",
   "execution_count": 16,
   "metadata": {
    "hideCode": false,
    "hidePrompt": false
   },
   "outputs": [
    {
     "data": {
      "image/png": "[encoded data removed]",
      "text/plain": [
       "<Figure size 432x216 with 1 Axes>"
      ]
     },
     "metadata": {
      "needs_background": "light"
     },
     "output_type": "display_data"
    },
    {
     "data": {
      "image/png": "[encoded data removed]",
      "text/plain": [
       "<Figure size 432x216 with 1 Axes>"
      ]
     },
     "metadata": {
      "needs_background": "light"
     },
     "output_type": "display_data"
    }
   ],
   "source": [
    "plt.plot(range(1,c+1),eigenvals[1:c+1])\n",
    "plt.title('Fall-off of non-trivial eigenvalues')\n",
    "plt.ylabel('$\\lambda$')\n",
    "plt.gcf().set_size_inches(6,3)\n",
    "plt.show()\n",
    "\n",
    "if flag_t:\n",
    "    plt.plot(range(1,c+1), pow(eigenvals[1:c+1], t))\n",
    "    plt.ylabel('$\\lambda$^t')\n",
    "else:\n",
    "    plt.plot(range(1,c+1), eigenvals[1:c+1]/(1-eigenvals[1:c+1]) )\n",
    "    ylabel('$\\lambda$ / (1-$\\lambda$)')\n",
    "plt.gcf().set_size_inches(6,3)\n",
    "plt.show()"
   ]
  },
  {
   "cell_type": "markdown",
   "metadata": {
    "hideCode": false,
    "hidePrompt": false
   },
   "source": [
    "##### 5.2. Show the diffusion space"
   ]
  },
  {
   "cell_type": "code",
   "execution_count": 17,
   "metadata": {
    "hideCode": false,
    "hidePrompt": false
   },
   "outputs": [
    {
     "data": {
      "image/png": "[encoded data removed]",
      "text/plain": [
       "<Figure size 432x288 with 1 Axes>"
      ]
     },
     "metadata": {
      "needs_background": "light"
     },
     "output_type": "display_data"
    }
   ],
   "source": [
    "from mpl_toolkits.mplot3d import Axes3D\n",
    "\n",
    "fig = plt.figure()\n",
    "ax = Axes3D(fig)\n",
    "for i in range(n): ax.scatter(Y[i][0],Y[i][1],Y[i][2],s=2, c='b')\n",
    "ax.set_title('Embedding with first 3 diffusion coordinates')\n",
    "plt.show()"
   ]
  },
  {
   "cell_type": "markdown",
   "metadata": {
    "hideCode": false,
    "hidePrompt": false
   },
   "source": [
    "##### 5.3. Show the labeling"
   ]
  },
  {
   "cell_type": "code",
   "execution_count": 18,
   "metadata": {
    "hideCode": false,
    "hidePrompt": false
   },
   "outputs": [
    {
     "data": {
      "image/png": "[encoded data removed]",
      "text/plain": [
       "<Figure size 432x432 with 1 Axes>"
      ]
     },
     "metadata": {
      "needs_background": "light"
     },
     "output_type": "display_data"
    }
   ],
   "source": [
    "cmap = cm.brg\n",
    "norm = Normalize(1, clusters)\n",
    "\n",
    "for i in range(n):\n",
    "    plt.scatter(ori['data'][i][0], ori['data'][i][1], s=2, c=cmap(norm(idx[i])) )\n",
    "plt.title('sigma=0.00025')\n",
    "plt.gcf().set_size_inches(6,6)\n",
    "plt.show()"
   ]
  },
  {
   "cell_type": "markdown",
   "metadata": {
    "hideCode": false,
    "hidePrompt": false
   },
   "source": [
    "## Conclusion\n",
    "\n",
    "After converting and understanding the meaning of the code, I can roughly describe this dimensionality reduction method. Although some of Ann Lee's code does not follow the original description of the diffusion map, (e.g., when finding the eigenvectors of diffusion map, unlike Ann Lee's method, [1] suggested we to multiple $Q$'s eigenvectors with a diagonal matrix related to $K$), but it turns out both way can lead us to an effective labeling of data (see the implement of the original description in my [another project]()). And as I mention above, I will then show a more convenient way to construct a diffusion map, which provided by [3], in my [next project]()."
   ]
  },
  {
   "cell_type": "markdown",
   "metadata": {},
   "source": [
    "## References\n",
    "\n",
    "[1] R.R. Coifman and S. Lafon, Diffusion maps, Applied and computational harmonic analysis, 21:5–30, 2006  \n",
    "[2] J. de la Porte, B. M. Herbst, W. Hereman and S. J. van der Walt., An Introduction to Diffusion Maps, Proceedings of the Nineteenth Annual Symposium of the Pattern Recognition Association of South Africa, 2008  \n",
    "[3] L. Zelnik-Manor and P. Perona, Self-Tuning Spectral Clustering, Advances in Neural Information Processing Systems 17:1601-1608, 2005"
   ]
  }
 ],
 "metadata": {
  "@webio": {
   "lastCommId": null,
   "lastKernelId": null
  },
  "hide_code_all_hidden": true,
  "kernelspec": {
   "display_name": "Python 3",
   "language": "python",
   "name": "python3"
  },
  "language_info": {
   "codemirror_mode": {
    "name": "ipython",
    "version": 3
   },
   "file_extension": ".py",
   "mimetype": "text/x-python",
   "name": "python",
   "nbconvert_exporter": "python",
   "pygments_lexer": "ipython3",
   "version": "3.7.3"
  }
 },
 "nbformat": 4,
 "nbformat_minor": 2
}
