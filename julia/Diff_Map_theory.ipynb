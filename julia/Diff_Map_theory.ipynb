{
 "cells": [
  {
   "cell_type": "code",
   "execution_count": 1,
   "metadata": {},
   "outputs": [
    {
     "data": {
      "image/png": "[encoded data removed]",
      "text/plain": [
       "Figure(PyObject <Figure size 640x480 with 1 Axes>)"
      ]
     },
     "metadata": {},
     "output_type": "display_data"
    },
    {
     "data": {
      "text/plain": [
       "PyObject <matplotlib.collections.PathCollection object at 0x14202ec50>"
      ]
     },
     "execution_count": 1,
     "metadata": {},
     "output_type": "execute_result"
    }
   ],
   "source": [
    "using MAT\n",
    "using PyPlot\n",
    "file = matread(\"Data.mat\")\n",
    "X = file[\"data\"] ;\n",
    "scatter(X[:,1] , X[:,2] , s = 5)"
   ]
  },
  {
   "cell_type": "code",
   "execution_count": 2,
   "metadata": {},
   "outputs": [],
   "source": [
    "function get_K(X , sigma)\n",
    "    sigma *= 4 ;\n",
    "    n = size(X,1) ; # number of points\n",
    "    K = ones(n,n) ; # the diagonal entries are 1 in kernel matrix\n",
    "    \n",
    "    # get components of kernel matrix\n",
    "    for ii = 1 : n\n",
    "        for jj = ii+1 : n\n",
    "            temp = sum((X[ii,:] - X[jj,:]).^2) ;\n",
    "            K[ii,jj] = exp(-temp/sigma) ;\n",
    "            K[jj,ii] = K[ii,jj] ; # since k(x,y) = k(y,x)\n",
    "        end\n",
    "    end\n",
    "    \n",
    "    return K ;\n",
    "end\n",
    "\n",
    "# get kernel matrix\n",
    "sigma = 0.00025 ;\n",
    "K = get_K(X , sigma) ;"
   ]
  },
  {
   "cell_type": "markdown",
   "metadata": {},
   "source": [
    "## Diffusion distance in data space (with D metric)"
   ]
  },
  {
   "cell_type": "code",
   "execution_count": 3,
   "metadata": {},
   "outputs": [
    {
     "name": "stdout",
     "output_type": "stream",
     "text": [
      "  1.950533 seconds (2.31 M allocations: 645.938 MiB, 8.09% gc time)\n"
     ]
    }
   ],
   "source": [
    "using LinearAlgebra\n",
    "function diff_Distance(K)\n",
    "    # get D matrix\n",
    "    n = size(K , 1) ;\n",
    "    D = zeros(n , n) ;\n",
    "    for ii = 1 : n\n",
    "        D[ii,ii] = sum(K[ii,:]) ;\n",
    "    end\n",
    "    \n",
    "    Dinv = inv(D) ;\n",
    "    \n",
    "    # get P matrix\n",
    "    P = Dinv*K ;\n",
    "    \n",
    "    DDD = zeros(n,n) ;\n",
    "    \n",
    "    for ii = 1 : n\n",
    "        for jj = ii+1 : n\n",
    "            temp = (P[ii,:] - P[jj,:]).^2 ;\n",
    "            DDD[ii,jj] = sum(Dinv * temp) ;\n",
    "            DDD[jj,ii] = DDD[ii,jj] ;\n",
    "        end\n",
    "    end\n",
    "    \n",
    "    return DDD ;\n",
    "end\n",
    "@time DDD = diff_Distance(K);"
   ]
  },
  {
   "cell_type": "markdown",
   "metadata": {},
   "source": [
    "## Euclidean distance in diffusion space"
   ]
  },
  {
   "cell_type": "code",
   "execution_count": 4,
   "metadata": {},
   "outputs": [
    {
     "name": "stdout",
     "output_type": "stream",
     "text": [
      "  0.620197 seconds (948.32 k allocations: 483.863 MiB, 20.91% gc time)\n"
     ]
    }
   ],
   "source": [
    "using LinearAlgebra\n",
    "function eucl_Distance(K)\n",
    "    # get D matrix\n",
    "    n = size(K , 1) ;\n",
    "    Dsq = zeros(n , n) ;\n",
    "    for ii = 1 : n\n",
    "        Dsq[ii,ii] = sqrt(sum(K[ii,:])) ;\n",
    "    end\n",
    "    \n",
    "    D = Dsq.^2 ;\n",
    "    Dinv = inv(D) ;\n",
    "    Dsqinv = inv(Dsq) ;\n",
    "\n",
    "    # get P' matrix\n",
    "    Ppron = Dsqinv*K*Dsqinv ;\n",
    "\n",
    "    # get eigenvalue and eigenvector\n",
    "    U,S,V = svd(Ppron) ;\n",
    "    \n",
    "    U = Dsqinv * U ;\n",
    "    \n",
    "    # find diffusion matrix\n",
    "    Y = zeros(n,n) ;\n",
    "    for ii = 1 : n\n",
    "        for jj = 1 : n\n",
    "            Y[ii,jj] = S[jj] * U[ii,jj] ;\n",
    "        end\n",
    "    end\n",
    "\n",
    "    # find diffusion distance matrix\n",
    "    DDM = zeros(n,n) ;\n",
    "    for ii = 1 : n\n",
    "        for jj = ii+1 : n\n",
    "            DDM[ii,jj] = sum((Y[ii,:] - Y[jj,:]).^2) ;\n",
    "            DDM[jj,ii] = DDM[ii,jj] ;\n",
    "        end\n",
    "    end\n",
    "    return DDM ;\n",
    "end\n",
    "@time DDM = eucl_Distance(K);"
   ]
  },
  {
   "cell_type": "markdown",
   "metadata": {},
   "source": [
    "## Check the difference"
   ]
  },
  {
   "cell_type": "code",
   "execution_count": 5,
   "metadata": {},
   "outputs": [
    {
     "data": {
      "text/plain": [
       "7.346900865456973e-14"
      ]
     },
     "execution_count": 5,
     "metadata": {},
     "output_type": "execute_result"
    }
   ],
   "source": [
    "A = DDM - DDD;\n",
    "opnorm(A, Inf)"
   ]
  },
  {
   "cell_type": "code",
   "execution_count": null,
   "metadata": {},
   "outputs": [],
   "source": []
  }
 ],
 "metadata": {
  "@webio": {
   "lastCommId": null,
   "lastKernelId": null
  },
  "kernelspec": {
   "display_name": "Julia 1.1.0",
   "language": "julia",
   "name": "julia-1.1"
  },
  "language_info": {
   "file_extension": ".jl",
   "mimetype": "application/julia",
   "name": "julia",
   "version": "1.1.0"
  }
 },
 "nbformat": 4,
 "nbformat_minor": 4
}
