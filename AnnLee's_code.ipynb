{
 "cells": [
  {
   "cell_type": "code",
   "execution_count": 2,
   "metadata": {},
   "outputs": [
    {
     "name": "stdout",
     "output_type": "stream",
     "text": [
      "Populating the interactive namespace from numpy and matplotlib\n"
     ]
    }
   ],
   "source": [
    "%pylab inline"
   ]
  },
  {
   "cell_type": "markdown",
   "metadata": {},
   "source": [
    "### load data"
   ]
  },
  {
   "cell_type": "code",
   "execution_count": 3,
   "metadata": {},
   "outputs": [
    {
     "data": {
      "image/png": "[encoded data removed]",
      "text/plain": [
       "<Figure size 432x432 with 1 Axes>"
      ]
     },
     "metadata": {
      "needs_background": "light"
     },
     "output_type": "display_data"
    }
   ],
   "source": [
    "from scipy.io import loadmat\n",
    "\n",
    "ori = loadmat('Data2.mat')\n",
    "n = len(ori['data'])\n",
    "p = len(ori['data'][0])\n",
    "\n",
    "for i in range(n):\n",
    "    plt.scatter(ori['data'][i][0],ori['data'][i][1], s=2, c=\"blue\")\n",
    "plt.title(\"Example data\")\n",
    "plt.gcf().set_size_inches(6,6)\n",
    "plt.show()"
   ]
  },
  {
   "cell_type": "markdown",
   "metadata": {},
   "source": [
    "###  check the distribution of nearest neighbors"
   ]
  },
  {
   "cell_type": "code",
   "execution_count": 5,
   "metadata": {},
   "outputs": [
    {
     "data": {
      "image/png": "[encoded data removed]",
      "text/plain": [
       "<Figure size 432x288 with 1 Axes>"
      ]
     },
     "metadata": {
      "needs_background": "light"
     },
     "output_type": "display_data"
    }
   ],
   "source": [
    "from scipy.spatial.distance import squareform, pdist\n",
    "\n",
    "D = squareform(pdist(ori['data']))\n",
    "\n",
    "test_flag = 1\n",
    "list1 = []\n",
    "\n",
    "if test_flag:\n",
    "    D_sort = sort(D,1)\n",
    "    k=30\n",
    "    \n",
    "    for i in range(len(D_sort)):\n",
    "        list1.append( D_sort[i][k+1] )    \n",
    "    dist_knn = array(list1)\n",
    "    list1.clear()\n",
    "    \n",
    "    median_val = median(dist_knn)\n",
    "    eps_val = median_val*median_val/2\n",
    "    sigmaK = sqrt(2)*median_val\n",
    "    \n",
    "    plt.hist(dist_knn)\n",
    "    plt.title('Distribution of distance to k-NN')\n",
    "    plt.gcf().set_size_inches(6,4)\n",
    "    plt.show()"
   ]
  },
  {
   "cell_type": "markdown",
   "metadata": {},
   "source": [
    "### set parameters in model"
   ]
  },
  {
   "cell_type": "code",
   "execution_count": 6,
   "metadata": {},
   "outputs": [],
   "source": [
    "eps_val=0.05\n",
    "neigen=10        #undifine=0\n",
    "flag_t=0\n",
    "if flag_t:\n",
    "    t=3"
   ]
  },
  {
   "cell_type": "markdown",
   "metadata": {},
   "source": [
    "### eigendecomposition"
   ]
  },
  {
   "cell_type": "code",
   "execution_count": 7,
   "metadata": {},
   "outputs": [],
   "source": [
    "def diffuse(D,eps_val,neigen,t):\n",
    "    \n",
    "    n=len(D[0])\n",
    "    \n",
    "    K=get_K(D, eps_val)\n",
    "    \n",
    "    v=get_v(D, K)\n",
    "    \n",
    "    A=get_A(K, v)    #symmetric graph Laplacian\n",
    "    \n",
    "    [psi, phi, eigenvals]=get_psiphi(A)    #eigenvectors,eigenvalues of Markov matrix\n",
    "\n",
    "    X = get_X(eigenvals, neigen, psi, t)    #non-trivial diffusion coords\n",
    "\n",
    "    \n",
    "    return X, eigenvals, psi, phi"
   ]
  },
  {
   "cell_type": "code",
   "execution_count": 8,
   "metadata": {},
   "outputs": [],
   "source": [
    "def get_K(D, eps_val):\n",
    "    list1=[]\n",
    "\n",
    "    for i in range(n):\n",
    "        for j in range(n):\n",
    "            list1.append( exp(-D[i][j]*D[i][j]/(4*eps_val)) )\n",
    "    K = array(list1).reshape(n, n)\n",
    "    \n",
    "    return K"
   ]
  },
  {
   "cell_type": "code",
   "execution_count": 9,
   "metadata": {},
   "outputs": [],
   "source": [
    "def get_v(D, K):\n",
    "    list1=[]\n",
    "    \n",
    "    for i in range(n):\n",
    "        list1.append( sqrt(sum(K[i])) )\n",
    "    v = array(list1).reshape(n,1)\n",
    "    \n",
    "    return v"
   ]
  },
  {
   "cell_type": "code",
   "execution_count": 10,
   "metadata": {},
   "outputs": [],
   "source": [
    "from scipy.sparse import csr_matrix\n",
    "\n",
    "def get_A(K, v):\n",
    "    A = K/(v*v.T)\n",
    "    threshold = 5e-6\n",
    "    \n",
    "    list1=[]\n",
    "    list2=[]\n",
    "    \n",
    "    for i in range(n):\n",
    "        for j in range(n):\n",
    "            if A[i][j]>threshold:\n",
    "                list1.append(1.)\n",
    "            else: list1.append(0.)\n",
    "    b = array(list1).reshape(n, n)\n",
    "    \n",
    "    A = csr_matrix(A*b, dtype=float)\n",
    "    #AA = np.array(A)\n",
    "    #A = A.T\n",
    "    return A"
   ]
  },
  {
   "cell_type": "code",
   "execution_count": 11,
   "metadata": {},
   "outputs": [],
   "source": [
    "from scipy.sparse.linalg import svds\n",
    "\n",
    "def get_psiphi(A):\n",
    "    list1=[]\n",
    "    \n",
    "    if neigen is 0:\n",
    "        [U, S, V] = svds(A, 51)\n",
    "        for i in range(n):\n",
    "            for j in range(51):\n",
    "                list1.append( U[i][0] )\n",
    "        temp = array(list1).reshape(n, 51)\n",
    "        psi = U/temp\n",
    "        phi = U*temp\n",
    "    else:\n",
    "        [U, S, V] = svds(A, neigen+1)\n",
    "\n",
    "        for i in range(n):\n",
    "            for j in range(neigen+1):\n",
    "                list1.append( U[i][0] )\n",
    "        temp = array(list1).reshape(n, neigen+1)\n",
    "        psi = U/temp\n",
    "        phi = U*temp\n",
    "        \n",
    "    \"\"\"\n",
    "    print(U)\n",
    "    print(len(psi),len(psi[0]))\n",
    "    print(psi)\n",
    "    print(phi)\n",
    "    \n",
    "    \"\"\"\n",
    "\n",
    "    S = flip(S)\n",
    "    eigenvals = array(S).reshape(len(S), 1)\n",
    "    \n",
    "    return [psi, phi, eigenvals]"
   ]
  },
  {
   "cell_type": "code",
   "execution_count": 12,
   "metadata": {},
   "outputs": [],
   "source": [
    "def get_X(eigenvals, neigen, psi, t):\n",
    "    list1=[]\n",
    "    list2=[]\n",
    "    list3=[]\n",
    "    list4=[]\n",
    "    \n",
    "    if t is 0:\n",
    "        for i in range(n):\n",
    "            for j in range(1, len(eigenvals)):\n",
    "                list1.append( pow(eigenvals[j], t) )\n",
    "        lambda_t = array(list1).reshape(n, len(eigenvals)-1)\n",
    "\n",
    "        if neigen is 0:\n",
    "            for i in range(len(eigenvals)):\n",
    "                list2.append( lambda_t[0][i])/(lambda_t[0][0] )\n",
    "            lam = array(list2)\n",
    "            \n",
    "            for i in range(len(eigenvals)):\n",
    "                if lam[i]<0.05:\n",
    "                    list3.append(lam[i])\n",
    "            neigen = min(list3)\n",
    "            neigen = min(neigen, 50)\n",
    "        \n",
    "        for i in range(n):\n",
    "            for j in range(neigen):\n",
    "                list4.append(psi[i][j+1]*lambda_t[i][j])\n",
    "        X = array(list4).reshape(n, neigen)\n",
    "    else:\n",
    "        for i in range(n):\n",
    "            for j in range(1, len(eigenvals)):\n",
    "                list1.append( eigenvals[j]/(1-eigenvals[j]) )\n",
    "        lambda_multi = array(list1).reshape(n, len(eigenvals)-1)\n",
    "        \n",
    "        if neigen is 0:\n",
    "            for i in range(len(eigenvals)):\n",
    "                list2.append( lambda_multi[0][i])/(lambda_t[0][0] )\n",
    "            lam = array(list2)\n",
    "            \n",
    "            for i in range(len(eigenvals)):\n",
    "                if lam[i]<0.05:\n",
    "                    list3.append(lam[i])\n",
    "            neigen = min(list3)\n",
    "            neigen = min(neigen, 50)\n",
    "        \n",
    "        for i in range(n):\n",
    "            for j in range(neigen):\n",
    "                list4.append(psi[i][j+1]*lambda_multi[i][j])\n",
    "        X = array(list4).reshape(n, neigen)\n",
    "    \n",
    "    return X"
   ]
  },
  {
   "cell_type": "code",
   "execution_count": 13,
   "metadata": {},
   "outputs": [],
   "source": [
    "X, eigenvals, psi, phi = diffuse(D, eps_val, neigen, 1)"
   ]
  },
  {
   "cell_type": "markdown",
   "metadata": {},
   "source": [
    "### fall-off of eigenvalues"
   ]
  },
  {
   "cell_type": "code",
   "execution_count": 14,
   "metadata": {},
   "outputs": [
    {
     "data": {
      "image/png": "[encoded data removed]",
      "text/plain": [
       "<Figure size 432x144 with 1 Axes>"
      ]
     },
     "metadata": {
      "needs_background": "light"
     },
     "output_type": "display_data"
    },
    {
     "data": {
      "image/png": "[encoded data removed]",
      "text/plain": [
       "<Figure size 432x144 with 1 Axes>"
      ]
     },
     "metadata": {
      "needs_background": "light"
     },
     "output_type": "display_data"
    }
   ],
   "source": [
    "plt.plot(eigenvals[1:neigen+1])\n",
    "plt.gcf().set_size_inches(6,2)\n",
    "plt.ylabel('Eigenvalues \\lambda')\n",
    "plt.title('Fall-off of eigenvalues')\n",
    "plt.show()\n",
    "\n",
    "if flag_t:\n",
    "    plt.plot(pow(eigenvals[1:neigen+1], t))\n",
    "    plt.gcf().set_size_inches(6,2)\n",
    "    plt.ylabel('\\lambda^t')\n",
    "    plt.show()\n",
    "else:\n",
    "    lambda_multi=eigenvals[1:neigen+1]/(1-eigenvals[1:neigen+1]) \n",
    "    plt.plot(lambda_multi)\n",
    "    plt.gcf().set_size_inches(6,2)\n",
    "    ylabel('\\lambda / (1-\\lambda)')\n",
    "    plt.show()"
   ]
  },
  {
   "cell_type": "markdown",
   "metadata": {},
   "source": [
    "### Diffusion map"
   ]
  },
  {
   "cell_type": "code",
   "execution_count": 15,
   "metadata": {},
   "outputs": [
    {
     "data": {
      "image/png": "[encoded data removed]",
      "text/plain": [
       "<Figure size 432x288 with 1 Axes>"
      ]
     },
     "metadata": {
      "needs_background": "light"
     },
     "output_type": "display_data"
    }
   ],
   "source": [
    "from mpl_toolkits.mplot3d import Axes3D\n",
    "\n",
    "fig = plt.figure()\n",
    "ax = Axes3D(fig)\n",
    "for i in range(len(X)):\n",
    "    ax.scatter(X[i][0],X[i][1],X[i][2],s=2, c=\"blue\")"
   ]
  },
  {
   "cell_type": "markdown",
   "metadata": {},
   "source": [
    "### diffusion k-means"
   ]
  },
  {
   "cell_type": "code",
   "execution_count": 52,
   "metadata": {},
   "outputs": [],
   "source": [
    "k=2\n",
    "Niter=100\n",
    "\n",
    "list1=[]\n",
    "for i in range(n):\n",
    "    list1.append(phi[i][0])\n",
    "phi0=array(list1).reshape(n,1)"
   ]
  },
  {
   "cell_type": "code",
   "execution_count": 53,
   "metadata": {},
   "outputs": [],
   "source": [
    "from math import ceil\n",
    "import random as rnd\n",
    "\n",
    "def diffusion_kmeans(X, k, phi0, Niter, epsilon):\n",
    "    \n",
    "    N=len(X)\n",
    "    d=len(X[0])\n",
    "    aD=Inf\n",
    "    if epsilon is 0: epsilon=1e-3\n",
    "    \n",
    "    for i in range(1): #Niter\n",
    "        tmp_ind = rnd.sample(range(N), k)\n",
    "        \n",
    "        list1=[]\n",
    "        for p in tmp_ind:\n",
    "            for q in range(d):\n",
    "                list1.append(X[p][q])\n",
    "        c_0 = array(list1).reshape(k, d)\n",
    "        \n",
    "    \n",
    "        idx, c, cindex, D, DX = distortionMinimization(X, phi0, k, c_0, 0, epsilon)\n",
    "\n",
    "        if D.all()<aD:\n",
    "            aD=D\n",
    "            aDX=DX\n",
    "            a_idx=idx\n",
    "            ac=c\n",
    "    D=aD\n",
    "    DX=aDX\n",
    "    idx=a_idx\n",
    "    C=ac\n",
    "    \n",
    "    return idx, C, D, DX"
   ]
  },
  {
   "cell_type": "code",
   "execution_count": 54,
   "metadata": {},
   "outputs": [],
   "source": [
    "def distortionMinimization(X, phi0, k, c_0, DspFlag, epsilon):\n",
    "    n=len(X)\n",
    "    d=len(X[0])\n",
    "    c=c_0\n",
    "    oldD=Inf\n",
    "    MaxIter=1000\n",
    "    \n",
    "    \n",
    "    list1=[]\n",
    "    list2=[]\n",
    "    list3=[]\n",
    "    \n",
    "    for i in range(1): #MaxIter\n",
    "        for j in range(k):\n",
    "            for p in range(n):\n",
    "                for q in range(d):\n",
    "                    list1.append(X[p][q]-c[j][q])\n",
    "            dX = (array(list1).reshape(n,d)).T #dX=dX.T\n",
    "            list1.clear()\n",
    "            \n",
    "            list2.append(sum(dX.conj()*dX,axis=0))\n",
    "        DX = (array(list2).reshape(k,n)).T\n",
    "        list2.clear()\n",
    "        \n",
    "        for p in range(n):\n",
    "            list1.append(min(DX[p]))\n",
    "            list2.append(len(DX[p]))\n",
    "        Dtmp = array(list1).reshape(1,n)\n",
    "        S = array(list2).reshape(n,1)\n",
    "        \n",
    "        ind=0\n",
    "        for p in range(k):\n",
    "            if S[p]==p+1: ind=S[p]\n",
    "            if ind==0:\n",
    "                mx = max(Dtmp[0])\n",
    "                m = argmax(Dtmp[0], axis=None)\n",
    "                S[m][0] = p+1\n",
    "                Dtmp[0][m] = 0\n",
    "                \n",
    "        for p in range(k):\n",
    "            for q in range(d):\n",
    "                c[p][q]=phi0[ind-1][0].T*X[ind-1][q]/sum(phi0[ind-1][0]) #??\n",
    "                \n",
    "        D = dot(phi0, Dtmp)\n",
    "        \n",
    "        for j in range(len(D)*len(D[0])):list3.append(Inf)\n",
    "        oldD = array(list3).reshape(len(D), len(D[0]))\n",
    "        \n",
    "        list1.clear()\n",
    "        list2.clear()\n",
    "        list3.clear()\n",
    "        \n",
    "        if ((oldD-D)/D).all() < epsilon: break\n",
    "        oldD=D\n",
    "        \n",
    "        \n",
    "    for r in range(k):\n",
    "        for p in range(n):\n",
    "            for q in range(d):\n",
    "                list1.append(X[p][q]-c[r][q])\n",
    "        dX = (array(list1).reshape(n,d)).T #dX=dX.T\n",
    "        list1.clear()\n",
    "  \n",
    "        list2.append(sum(dX.conj()*dX,axis=0))\n",
    "        DX = array(list2).reshape(n,1)\n",
    "        list2.clear()\n",
    "            \n",
    "        dummy = min(DX.T[0])\n",
    "        list3.append( argmax(DX.T[0], axis=None) )\n",
    "    cindex = array(list3).reshape(k,1)\n",
    "        \n",
    "    return S, c, cindex, D, DX"
   ]
  },
  {
   "cell_type": "code",
   "execution_count": 55,
   "metadata": {},
   "outputs": [
    {
     "ename": "ValueError",
     "evalue": "setting an array element with a sequence.",
     "output_type": "error",
     "traceback": [
      "\u001b[0;31m---------------------------------------------------------------------------\u001b[0m",
      "\u001b[0;31mValueError\u001b[0m                                Traceback (most recent call last)",
      "\u001b[0;32m<ipython-input-55-be45d3b97f68>\u001b[0m in \u001b[0;36m<module>\u001b[0;34m\u001b[0m\n\u001b[0;32m----> 1\u001b[0;31m \u001b[0midx\u001b[0m\u001b[0;34m,\u001b[0m \u001b[0mC\u001b[0m\u001b[0;34m,\u001b[0m \u001b[0mERR\u001b[0m\u001b[0;34m,\u001b[0m \u001b[0mDX\u001b[0m \u001b[0;34m=\u001b[0m \u001b[0mdiffusion_kmeans\u001b[0m\u001b[0;34m(\u001b[0m\u001b[0mX\u001b[0m\u001b[0;34m,\u001b[0m \u001b[0mk\u001b[0m\u001b[0;34m,\u001b[0m \u001b[0mphi0\u001b[0m\u001b[0;34m,\u001b[0m \u001b[0mNiter\u001b[0m\u001b[0;34m,\u001b[0m \u001b[0;36m0.001\u001b[0m\u001b[0;34m)\u001b[0m\u001b[0;34m\u001b[0m\u001b[0;34m\u001b[0m\u001b[0m\n\u001b[0m",
      "\u001b[0;32m<ipython-input-53-bd05a539be89>\u001b[0m in \u001b[0;36mdiffusion_kmeans\u001b[0;34m(X, k, phi0, Niter, epsilon)\u001b[0m\n\u001b[1;32m     19\u001b[0m \u001b[0;34m\u001b[0m\u001b[0m\n\u001b[1;32m     20\u001b[0m \u001b[0;34m\u001b[0m\u001b[0m\n\u001b[0;32m---> 21\u001b[0;31m         \u001b[0midx\u001b[0m\u001b[0;34m,\u001b[0m \u001b[0mc\u001b[0m\u001b[0;34m,\u001b[0m \u001b[0mcindex\u001b[0m\u001b[0;34m,\u001b[0m \u001b[0mD\u001b[0m\u001b[0;34m,\u001b[0m \u001b[0mDX\u001b[0m \u001b[0;34m=\u001b[0m \u001b[0mdistortionMinimization\u001b[0m\u001b[0;34m(\u001b[0m\u001b[0mX\u001b[0m\u001b[0;34m,\u001b[0m \u001b[0mphi0\u001b[0m\u001b[0;34m,\u001b[0m \u001b[0mk\u001b[0m\u001b[0;34m,\u001b[0m \u001b[0mc_0\u001b[0m\u001b[0;34m,\u001b[0m \u001b[0;36m0\u001b[0m\u001b[0;34m,\u001b[0m \u001b[0mepsilon\u001b[0m\u001b[0;34m)\u001b[0m\u001b[0;34m\u001b[0m\u001b[0;34m\u001b[0m\u001b[0m\n\u001b[0m\u001b[1;32m     22\u001b[0m \u001b[0;34m\u001b[0m\u001b[0m\n\u001b[1;32m     23\u001b[0m         \u001b[0;32mif\u001b[0m \u001b[0mD\u001b[0m\u001b[0;34m.\u001b[0m\u001b[0mall\u001b[0m\u001b[0;34m(\u001b[0m\u001b[0;34m)\u001b[0m\u001b[0;34m<\u001b[0m\u001b[0maD\u001b[0m\u001b[0;34m:\u001b[0m\u001b[0;34m\u001b[0m\u001b[0;34m\u001b[0m\u001b[0m\n",
      "\u001b[0;32m<ipython-input-54-437a381f164c>\u001b[0m in \u001b[0;36mdistortionMinimization\u001b[0;34m(X, phi0, k, c_0, DspFlag, epsilon)\u001b[0m\n\u001b[1;32m     40\u001b[0m         \u001b[0;32mfor\u001b[0m \u001b[0mp\u001b[0m \u001b[0;32min\u001b[0m \u001b[0mrange\u001b[0m\u001b[0;34m(\u001b[0m\u001b[0mk\u001b[0m\u001b[0;34m)\u001b[0m\u001b[0;34m:\u001b[0m\u001b[0;34m\u001b[0m\u001b[0;34m\u001b[0m\u001b[0m\n\u001b[1;32m     41\u001b[0m             \u001b[0;32mfor\u001b[0m \u001b[0mq\u001b[0m \u001b[0;32min\u001b[0m \u001b[0mrange\u001b[0m\u001b[0;34m(\u001b[0m\u001b[0md\u001b[0m\u001b[0;34m)\u001b[0m\u001b[0;34m:\u001b[0m\u001b[0;34m\u001b[0m\u001b[0;34m\u001b[0m\u001b[0m\n\u001b[0;32m---> 42\u001b[0;31m                 \u001b[0mc\u001b[0m\u001b[0;34m[\u001b[0m\u001b[0mp\u001b[0m\u001b[0;34m]\u001b[0m\u001b[0;34m[\u001b[0m\u001b[0mq\u001b[0m\u001b[0;34m]\u001b[0m\u001b[0;34m=\u001b[0m\u001b[0mphi0\u001b[0m\u001b[0;34m[\u001b[0m\u001b[0mind\u001b[0m\u001b[0;34m-\u001b[0m\u001b[0;36m1\u001b[0m\u001b[0;34m]\u001b[0m\u001b[0;34m[\u001b[0m\u001b[0;36m0\u001b[0m\u001b[0;34m]\u001b[0m\u001b[0;34m.\u001b[0m\u001b[0mT\u001b[0m\u001b[0;34m*\u001b[0m\u001b[0mX\u001b[0m\u001b[0;34m[\u001b[0m\u001b[0mind\u001b[0m\u001b[0;34m-\u001b[0m\u001b[0;36m1\u001b[0m\u001b[0;34m]\u001b[0m\u001b[0;34m[\u001b[0m\u001b[0mq\u001b[0m\u001b[0;34m]\u001b[0m\u001b[0;34m/\u001b[0m\u001b[0msum\u001b[0m\u001b[0;34m(\u001b[0m\u001b[0mphi0\u001b[0m\u001b[0;34m[\u001b[0m\u001b[0mind\u001b[0m\u001b[0;34m-\u001b[0m\u001b[0;36m1\u001b[0m\u001b[0;34m]\u001b[0m\u001b[0;34m[\u001b[0m\u001b[0;36m0\u001b[0m\u001b[0;34m]\u001b[0m\u001b[0;34m)\u001b[0m \u001b[0;31m#??\u001b[0m\u001b[0;34m\u001b[0m\u001b[0;34m\u001b[0m\u001b[0m\n\u001b[0m\u001b[1;32m     43\u001b[0m \u001b[0;34m\u001b[0m\u001b[0m\n\u001b[1;32m     44\u001b[0m         \u001b[0mD\u001b[0m \u001b[0;34m=\u001b[0m \u001b[0mdot\u001b[0m\u001b[0;34m(\u001b[0m\u001b[0mphi0\u001b[0m\u001b[0;34m,\u001b[0m \u001b[0mDtmp\u001b[0m\u001b[0;34m)\u001b[0m\u001b[0;34m\u001b[0m\u001b[0;34m\u001b[0m\u001b[0m\n",
      "\u001b[0;31mValueError\u001b[0m: setting an array element with a sequence."
     ]
    }
   ],
   "source": [
    "idx, C, ERR, DX = diffusion_kmeans(X, k, phi0, Niter, 0.001)"
   ]
  },
  {
   "cell_type": "markdown",
   "metadata": {},
   "source": [
    "### k-means labeling"
   ]
  },
  {
   "cell_type": "code",
   "execution_count": 38,
   "metadata": {},
   "outputs": [
    {
     "ename": "NameError",
     "evalue": "name 'idx' is not defined",
     "output_type": "error",
     "traceback": [
      "\u001b[0;31m---------------------------------------------------------------------------\u001b[0m",
      "\u001b[0;31mNameError\u001b[0m                                 Traceback (most recent call last)",
      "\u001b[0;32m<ipython-input-38-73ce67af420c>\u001b[0m in \u001b[0;36m<module>\u001b[0;34m\u001b[0m\n\u001b[1;32m      1\u001b[0m \u001b[0;32mfor\u001b[0m \u001b[0mi\u001b[0m \u001b[0;32min\u001b[0m \u001b[0mrange\u001b[0m\u001b[0;34m(\u001b[0m\u001b[0mn\u001b[0m\u001b[0;34m)\u001b[0m\u001b[0;34m:\u001b[0m\u001b[0;34m\u001b[0m\u001b[0;34m\u001b[0m\u001b[0m\n\u001b[0;32m----> 2\u001b[0;31m     \u001b[0mplt\u001b[0m\u001b[0;34m.\u001b[0m\u001b[0mscatter\u001b[0m\u001b[0;34m(\u001b[0m\u001b[0mA\u001b[0m\u001b[0;34m[\u001b[0m\u001b[0;34m'Data'\u001b[0m\u001b[0;34m]\u001b[0m\u001b[0;34m[\u001b[0m\u001b[0mi\u001b[0m\u001b[0;34m]\u001b[0m\u001b[0;34m[\u001b[0m\u001b[0;36m0\u001b[0m\u001b[0;34m]\u001b[0m\u001b[0;34m,\u001b[0m\u001b[0mA\u001b[0m\u001b[0;34m[\u001b[0m\u001b[0;34m'Data'\u001b[0m\u001b[0;34m]\u001b[0m\u001b[0;34m[\u001b[0m\u001b[0mi\u001b[0m\u001b[0;34m]\u001b[0m\u001b[0;34m[\u001b[0m\u001b[0;36m1\u001b[0m\u001b[0;34m]\u001b[0m\u001b[0;34m,\u001b[0m \u001b[0ms\u001b[0m\u001b[0;34m=\u001b[0m\u001b[0;36m2\u001b[0m\u001b[0;34m,\u001b[0m \u001b[0mmarker\u001b[0m\u001b[0;34m=\u001b[0m\u001b[0midx\u001b[0m\u001b[0;34m)\u001b[0m\u001b[0;34m\u001b[0m\u001b[0;34m\u001b[0m\u001b[0m\n\u001b[0m",
      "\u001b[0;31mNameError\u001b[0m: name 'idx' is not defined"
     ]
    }
   ],
   "source": [
    "for i in range(n):\n",
    "    plt.scatter(A['data'][i][0],A['data'][i][1], s=2, marker=idx)"
   ]
  },
  {
   "cell_type": "code",
   "execution_count": null,
   "metadata": {},
   "outputs": [],
   "source": []
  }
 ],
 "metadata": {
  "kernelspec": {
   "display_name": "Python 3",
   "language": "python",
   "name": "python3"
  },
  "language_info": {
   "codemirror_mode": {
    "name": "ipython",
    "version": 3
   },
   "file_extension": ".py",
   "mimetype": "text/x-python",
   "name": "python",
   "nbconvert_exporter": "python",
   "pygments_lexer": "ipython3",
   "version": "3.7.3"
  }
 },
 "nbformat": 4,
 "nbformat_minor": 2
}
