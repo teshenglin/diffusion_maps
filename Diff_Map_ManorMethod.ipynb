{
 "cells": [
  {
   "cell_type": "markdown",
   "metadata": {},
   "source": [
    "# Diffusion map"
   ]
  },
  {
   "cell_type": "markdown",
   "metadata": {},
   "source": [
    "### Abstract\n",
    "\n",
    "Diffusion map is a dimensionality reduction method that find meaningful structure which points are embedded. By studying this technique $^{[1]}$ $^{[2]}$ and a paper that claim to have a better algorithm for diffusiom map $^{[3]}$, I will first introduce this method, then display the new algorithm."
   ]
  },
  {
   "cell_type": "markdown",
   "metadata": {},
   "source": [
    "### Introduction\n",
    "\n",
    "For morden data sets (e.g., financial and consumer data, DNA microarrays, text documents), datas are offen high-dimensional, noisy and unordered, which makes it hard to find meaningful structures. Diffusion map is a mathematical technique for analysing and organising such data, which is done by reducing the dimension of points, that is, finding a lower-dimensional manifold which points are embedded. The new representation of points in such structure should preserve the important relationships, such as local mutual distance, between them.\n",
    "\n",
    "Unlike other method for dimensionality reduction (such as Principal Component Cnalysis, PCA), diffusion map is still usful when datas in data space have nonlinear shapes, since it focus on discovering the underlying manifold. In comparisons, the technique is also robust to noise perturbation and computationally inexpensive."
   ]
  },
  {
   "cell_type": "markdown",
   "metadata": {},
   "source": [
    "### Framework\n",
    "\n",
    "Given a data set $X=\\{x_1,...,x_n\\} \\in \\mathbb{R}^p$, we construct the diffusion map by using steps in the paper$^{[3]}$:"
   ]
  },
  {
   "cell_type": "markdown",
   "metadata": {},
   "source": [
    "1. ##### Define a kernel and create the kernel matrix\n",
    "\n",
    ">Consider Guassian kernel $$ k(x_{i},x_{j}) = \\exp(-\\frac{\\lVert x_{i}-x_{j} \\rVert^2}{\\sigma_i \\sigma_j}) $$\n",
    "where $$ \\sigma_i=\\lVert x_i-x_s \\rVert^2 $$ and $x_s$ is the $s$'th neighber of point $x_i$.  \n",
    "Define the kernel matrix $K$, with entries $ K_{ij}=k(x_{i},x_{j}) $. \n",
    "\n",
    "Note that $K$ is a $n*n$ symmetric matrix, the value of the entries is between 0 and 1, and is equal to 0 on the diagonal. Also, it is small if two data points, $x_i$ and $x_j$, are far away from each other in the data space; and is large if opposite."
   ]
  },
  {
   "cell_type": "markdown",
   "metadata": {},
   "source": [
    "Next, we bring up the connectivity between two data points $x_i$ and $x_j$, which is consider as the probability of jumping from $x_i$ to $x_j$ in one step of random walk. The relation between probability function and kernel function is\n",
    "$$ p(x,y)=\\frac{k(x,y)}{\\sum_{y\\in X} k(x,y)} $$\n",
    "\n",
    "Define the diffusion matrix $P$, with entries $ P_{ij}=p(x_{i},x_{j}) $. Note that $P$ is not symmetric and has a discrete sequence of eigenvalues $1=\\lambda_0 > \\lvert \\lambda_1 \\rvert \\geq \\lvert \\lambda_2 \\rvert \\geq \\cdots$."
   ]
  },
  {
   "cell_type": "markdown",
   "metadata": {},
   "source": [
    "Let $$ D=\n",
    "\\left[\n",
    "\\begin{matrix}\n",
    " \\sum_{y\\in X} k(x_1,y)      &0      & \\cdots &0      \\\\\n",
    " 0      &\\sum_{y\\in X} k(x_2,y)      & \\cdots &0      \\\\\n",
    " \\vdots & \\vdots & \\ddots & \\vdots \\\\\n",
    " 0      &0      & \\cdots & \\sum_{y\\in X} k(x_n,y)     \\\\\n",
    "\\end{matrix}\n",
    "\\right]\n",
    "$$ be a $n*n$ diagonal matrix, then $ P=D^{-1}K $. Consider another matrix $Q$, define as $ Q=D^{1/2}P D^{-1/2} $, we have that\n",
    "* $Q$ is symmetric.\n",
    "* $Q$ has same eigenvalues as $P$.\n",
    "* eigenvectors of $Q$, denoted as $e_k$, are multiplied by $D^{-1/2}$ and $D^{1/2}$ to get the right and left eigenvectors of $P$ respectively."
   ]
  },
  {
   "cell_type": "markdown",
   "metadata": {},
   "source": [
    "2. ##### Find matrix $Q$\n",
    "\n",
    "Althouth $P$ is what we need, it is more convenient for us to compute the matrix $Q$. Since $$ Q=D^{1/2}P D^{-1/2}=D^{1/2}(D^{-1}K) D^{-1/2}=D^{-1/2}K D^{-1/2} $$, \n",
    "it means that we should \n",
    ">divide entries of $K$ by the product of root number of the sum of the related row and column to get the matrix $Q$."
   ]
  },
  {
   "cell_type": "markdown",
   "metadata": {},
   "source": [
    "3. ##### Find eigenvectors of $Q$ and form the matrix $Z$\n",
    "\n",
    "> Simply compute the first $c$ largest eigenvalues of $Q$ and get the corresponding eigenvectors, $e_1,...,e_n$,  \n",
    "then define the matrix $Z=\n",
    "\\left[\n",
    "\\begin{matrix} e_1 &e_2 &\\cdots &e_n \\end{matrix}\n",
    "\\right]\n",
    "\\in \\mathbb{R}^{n \\times c}\n",
    "$"
   ]
  },
  {
   "cell_type": "markdown",
   "metadata": {},
   "source": [
    "4. ##### Get the diffusion map and treat each row as a point coordinate\n",
    "\n",
    ">define a diffusion map $Y$, which maps corrdinates between data and diffusion space, with its entries $$ Y_{ij}=\\frac{Z_{ij}}{(\\sum_{j=1}^{c} Z_{ij}^2)^{1/2}} $$  \n",
    "It is the row-normalize matrix of $Z$.\n",
    "\n",
    "Dimensional reduction is done by neglecting certain dimensions in the diffusion space, since the eigenvalues indicate the importance of each dimension, and is arrange in descending power as we mention earlier."
   ]
  },
  {
   "cell_type": "markdown",
   "metadata": {},
   "source": [
    "5. ##### Cluster via k-means\n",
    "\n",
    ">Using k-means function to get the labeling of the datas, then we can show the result."
   ]
  },
  {
   "cell_type": "markdown",
   "metadata": {},
   "source": [
    "### Implement\n",
    "\n",
    "This is a Python code following paper $^{[3]}$'s algorithm."
   ]
  },
  {
   "cell_type": "markdown",
   "metadata": {},
   "source": [
    "1. #### import some libraries for programming"
   ]
  },
  {
   "cell_type": "code",
   "execution_count": 1,
   "metadata": {},
   "outputs": [
    {
     "name": "stdout",
     "output_type": "stream",
     "text": [
      "Populating the interactive namespace from numpy and matplotlib\n"
     ]
    }
   ],
   "source": [
    "%pylab inline"
   ]
  },
  {
   "cell_type": "markdown",
   "metadata": {},
   "source": [
    "2. #### Load the data"
   ]
  },
  {
   "cell_type": "code",
   "execution_count": 2,
   "metadata": {
    "hideCode": false,
    "hidePrompt": false
   },
   "outputs": [
    {
     "data": {
      "image/png": "[encoded data removed]",
      "text/plain": [
       "<Figure size 432x432 with 1 Axes>"
      ]
     },
     "metadata": {
      "needs_background": "light"
     },
     "output_type": "display_data"
    }
   ],
   "source": [
    "from scipy.io import loadmat\n",
    "\n",
    "ori = loadmat('Data/Data2.mat')\n",
    "\n",
    "n = len(ori['data'])       #number of points\n",
    "p = len(ori['data'][0])    #dimension of points\n",
    "\n",
    "for i in range(n): plt.scatter(ori['data'][i][0],ori['data'][i][1], s=2, c=\"blue\")\n",
    "plt.title(\"Original data\")\n",
    "plt.gcf().set_size_inches(6,6)\n",
    "plt.show()"
   ]
  },
  {
   "cell_type": "markdown",
   "metadata": {
    "hideCode": false,
    "hidePrompt": false
   },
   "source": [
    "3. #### Construct diffusion map"
   ]
  },
  {
   "cell_type": "markdown",
   "metadata": {},
   "source": [
    "######  3.1 Define functions"
   ]
  },
  {
   "cell_type": "markdown",
   "metadata": {},
   "source": [
    "The functioning of get_K is to get the Guassian kernel matrix."
   ]
  },
  {
   "cell_type": "code",
   "execution_count": 3,
   "metadata": {
    "hideCode": false,
    "hidePrompt": false
   },
   "outputs": [],
   "source": [
    "def get_K(D, sigma):\n",
    "    list1=[]\n",
    "\n",
    "    for i in range(n):\n",
    "        for j in range(n):\n",
    "            list1.append( exp(-D[i][j]*D[i][j]/(sigma[i]*sigma[j])) )\n",
    "    K = array(list1).reshape(n, n)\n",
    "    \n",
    "    return K    #Guassian kernel matrix"
   ]
  },
  {
   "cell_type": "markdown",
   "metadata": {},
   "source": [
    "The functioning of get_Q is to get the matrix $Q$ we mention above."
   ]
  },
  {
   "cell_type": "code",
   "execution_count": 4,
   "metadata": {
    "hideCode": false,
    "hidePrompt": false
   },
   "outputs": [],
   "source": [
    "from scipy.sparse import csr_matrix\n",
    "\n",
    "def get_Q(K):\n",
    "    list1=[]\n",
    "    list2=[]\n",
    "    \n",
    "    for i in range(n): list1.append( sqrt(sum(K[i])) )\n",
    "    v = array(list1).reshape(n,1)    #v is a matrix helps normalize K\n",
    "    \n",
    "    Q = K/(v*v.T)    #v*v.T is a n*n symmetric matrix.\n",
    "                     #the multiplication and division is applied to each element,\n",
    "                     #not the matrix operations.\n",
    "    \n",
    "    #turn Q into a sparse matrix to speed up calculation\n",
    "    threshold = 5e-6\n",
    "    for i in range(n):\n",
    "        for j in range(n):\n",
    "            if Q[i][j]>threshold: list2.append(1.)\n",
    "            else: list2.append(0.)\n",
    "    a = array(list2).reshape(n, n)\n",
    "    Q = csr_matrix(Q*a, dtype=float)\n",
    "    \n",
    "    return Q    #Q is the matrix we define earlier, i.e., Q=D^(-1/2)KD^(-1/2)"
   ]
  },
  {
   "cell_type": "markdown",
   "metadata": {},
   "source": [
    "The functioning of get_eig is to get the eigenvectors of $Q$. "
   ]
  },
  {
   "cell_type": "code",
   "execution_count": 5,
   "metadata": {
    "hideCode": false,
    "hidePrompt": false
   },
   "outputs": [],
   "source": [
    "from scipy.sparse.linalg import svds\n",
    "\n",
    "def get_eig(Q, c):\n",
    "    list1=[]\n",
    "    \n",
    "    [U, S, V] = svds(Q,c+1)    #compute the largest c singular values/vectors for a sparse matrix\n",
    "                               #since Q is a real symmetric matrix, singular values and non-negative\n",
    "                               #eigenvalues coincide\n",
    "\n",
    "    for i in range(n): U[i]=flip(U[i])\n",
    "    for i in range(n):\n",
    "        for j in range(c):\n",
    "            list1.append(U[i][j])\n",
    "    Z = array(list1).reshape(n, c)\n",
    "    \n",
    "    return Z    #matrix of eigenvectors of Q"
   ]
  },
  {
   "cell_type": "markdown",
   "metadata": {},
   "source": [
    "The functioning of get_Y is to construct the diffusion map."
   ]
  },
  {
   "cell_type": "code",
   "execution_count": 21,
   "metadata": {
    "hideCode": false,
    "hidePrompt": false
   },
   "outputs": [],
   "source": [
    "def get_Y(Z, c):\n",
    "    list1=[]\n",
    "    \n",
    "    for i in range(n):\n",
    "        tempsum=0\n",
    "        for j in range(c): tempsum = tempsum + Z[i][j]*Z[i][j]\n",
    "        for j in range(c): list1.append(sqrt(tempsum))\n",
    "    normalize_mat = array(list1).reshape(n,c)\n",
    "    \n",
    "    Y = Z/normalize_mat    #entries division\n",
    "       \n",
    "    return Y    #diffusion map"
   ]
  },
  {
   "cell_type": "markdown",
   "metadata": {},
   "source": [
    ">###### 3.2 Set parameters for diffusion map\n",
    "\n",
    "D : matrix of Euclidean distance of data points in $\\mathbb{R}^p$.  \n",
    "c : the largest $c$ eigenvalues, that is, the largest dimension we consider.  \n",
    "s : parameter $s$ in the Guassian kernel function.  \n",
    "sigma : a list of $\\sigma_i$, which is required in the Guassian kernel function."
   ]
  },
  {
   "cell_type": "code",
   "execution_count": 14,
   "metadata": {
    "hideCode": false,
    "hidePrompt": false
   },
   "outputs": [],
   "source": [
    "from scipy.spatial.distance import squareform, pdist\n",
    "D = squareform(pdist(ori['data']))\n",
    "c = 10\n",
    "\n",
    "s = 7\n",
    "sigma=[]\n",
    "D_sort = sort(D,1)    # distance of one point to another arrange in descending power\n",
    "for i in range(n): sigma.append( D_sort[i][s+1] )"
   ]
  },
  {
   "cell_type": "markdown",
   "metadata": {},
   "source": [
    "###### 3.3 Conclude the steps above"
   ]
  },
  {
   "cell_type": "code",
   "execution_count": 15,
   "metadata": {
    "hideCode": false,
    "hidePrompt": false
   },
   "outputs": [],
   "source": [
    "def diffuse(D, sigma, c):\n",
    "    \n",
    "    K = get_K(D, sigma)\n",
    "    Q = get_Q(K)\n",
    "    Z = get_eig(Q, c)\n",
    "    Y = get_Y(Z, c)\n",
    "\n",
    "    return Y"
   ]
  },
  {
   "cell_type": "code",
   "execution_count": 16,
   "metadata": {
    "hideCode": false,
    "hidePrompt": false
   },
   "outputs": [],
   "source": [
    "Y = diffuse(D, sigma, c)"
   ]
  },
  {
   "cell_type": "markdown",
   "metadata": {
    "hideCode": false,
    "hidePrompt": false
   },
   "source": [
    "###### 3.4 Show the diffusion space"
   ]
  },
  {
   "cell_type": "code",
   "execution_count": 17,
   "metadata": {
    "hideCode": false,
    "hidePrompt": false
   },
   "outputs": [
    {
     "data": {
      "image/png": "[encoded data removed]",
      "text/plain": [
       "<Figure size 432x288 with 1 Axes>"
      ]
     },
     "metadata": {
      "needs_background": "light"
     },
     "output_type": "display_data"
    }
   ],
   "source": [
    "from mpl_toolkits.mplot3d import Axes3D\n",
    "\n",
    "fig = plt.figure()\n",
    "ax = Axes3D(fig)\n",
    "for i in range(n): ax.scatter(Y[i][0],Y[i][1],Y[i][2],s=2, c='b')\n",
    "ax.set_title('Embedding with first 3 diffusion coordinates')\n",
    "plt.show()"
   ]
  },
  {
   "cell_type": "markdown",
   "metadata": {
    "hideCode": false,
    "hidePrompt": false
   },
   "source": [
    "4. #### Cluster via k-means"
   ]
  },
  {
   "cell_type": "code",
   "execution_count": 25,
   "metadata": {},
   "outputs": [],
   "source": [
    "from sklearn.cluster import KMeans\n",
    "\n",
    "clusters = 3    #group numbers\n",
    "\n",
    "kmeans = KMeans(clusters)\n",
    "kmeans = kmeans.fit(Y)\n",
    "labels = array(kmeans.predict(Y)).reshape(n,1)"
   ]
  },
  {
   "cell_type": "code",
   "execution_count": 26,
   "metadata": {},
   "outputs": [
    {
     "data": {
      "image/png": "[encoded data removed]",
      "text/plain": [
       "<Figure size 432x432 with 1 Axes>"
      ]
     },
     "metadata": {
      "needs_background": "light"
     },
     "output_type": "display_data"
    }
   ],
   "source": [
    "cmap = cm.brg\n",
    "norm = Normalize(1, clusters)\n",
    "\n",
    "for i in range(n):\n",
    "    plt.scatter(ori['data'][i][0], ori['data'][i][1], s=2, c=cmap(norm(labels[i]+1)) )\n",
    "plt.title('K-means with K=3')\n",
    "plt.gcf().set_size_inches(6,6)\n",
    "plt.show()"
   ]
  },
  {
   "cell_type": "markdown",
   "metadata": {},
   "source": [
    "### References\n",
    "\n",
    "[1] R.R. Coifman and S. Lafon, Diffusion maps, 21(1):5–30, 2006  \n",
    "[2] J. de la Porte, B. M. Herbst, W. Hereman, S. J. van der Walt., An Introduction to Diffusion Maps  \n",
    "[3] L. Zelnik-Manor and P. Perona, Self-Tuning Spectral Clustering, NIPS 2004"
   ]
  },
  {
   "cell_type": "code",
   "execution_count": null,
   "metadata": {},
   "outputs": [],
   "source": []
  }
 ],
 "metadata": {
  "celltoolbar": "Hide code",
  "hide_code_all_hidden": false,
  "kernelspec": {
   "display_name": "Python 3",
   "language": "python",
   "name": "python3"
  },
  "language_info": {
   "codemirror_mode": {
    "name": "ipython",
    "version": 3
   },
   "file_extension": ".py",
   "mimetype": "text/x-python",
   "name": "python",
   "nbconvert_exporter": "python",
   "pygments_lexer": "ipython3",
   "version": "3.7.3"
  }
 },
 "nbformat": 4,
 "nbformat_minor": 2
}
