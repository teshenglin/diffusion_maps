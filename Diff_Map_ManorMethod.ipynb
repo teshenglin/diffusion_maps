{
 "cells": [
  {
   "cell_type": "code",
   "execution_count": 1,
   "metadata": {
    "hideCode": false,
    "hideOutput": true,
    "hidePrompt": false
   },
   "outputs": [
    {
     "name": "stdout",
     "output_type": "stream",
     "text": [
      "Populating the interactive namespace from numpy and matplotlib\n"
     ]
    }
   ],
   "source": [
    "%pylab inline"
   ]
  },
  {
   "cell_type": "markdown",
   "metadata": {
    "hideCode": false,
    "hidePrompt": false
   },
   "source": [
    "### load data"
   ]
  },
  {
   "cell_type": "code",
   "execution_count": 2,
   "metadata": {
    "hideCode": false,
    "hidePrompt": false
   },
   "outputs": [
    {
     "data": {
      "image/png": "[encoded data removed]",
      "text/plain": [
       "<Figure size 432x432 with 1 Axes>"
      ]
     },
     "metadata": {
      "needs_background": "light"
     },
     "output_type": "display_data"
    }
   ],
   "source": [
    "from scipy.io import loadmat\n",
    "\n",
    "ori = loadmat('Data/Data5.mat')\n",
    "n = len(ori['data'])\n",
    "p = len(ori['data'][0])\n",
    "\n",
    "for i in range(n):\n",
    "    plt.scatter(ori['data'][i][0],ori['data'][i][1], s=2, c=\"blue\")\n",
    "plt.title(\"Example data\")\n",
    "plt.gcf().set_size_inches(6,6)\n",
    "plt.show()"
   ]
  },
  {
   "cell_type": "markdown",
   "metadata": {
    "hideCode": false,
    "hidePrompt": false
   },
   "source": [
    "###  set parameters and show the distribution of k-nearest neighbors"
   ]
  },
  {
   "cell_type": "code",
   "execution_count": 3,
   "metadata": {
    "hideCode": false,
    "hidePrompt": false
   },
   "outputs": [
    {
     "data": {
      "image/png": "[encoded data removed]",
      "text/plain": [
       "<Figure size 432x288 with 1 Axes>"
      ]
     },
     "metadata": {
      "needs_background": "light"
     },
     "output_type": "display_data"
    }
   ],
   "source": [
    "from scipy.spatial.distance import squareform, pdist\n",
    "\n",
    "D=squareform(pdist(ori['data']))\n",
    "D_sort = sort(D,1)\n",
    "\n",
    "\n",
    "\n",
    "#set parameters\n",
    "\n",
    "k=7\n",
    "neigen=3\n",
    "t=0\n",
    "flag_t=0\n",
    "\n",
    "sigma=[]\n",
    "for i in range(len(D_sort)):\n",
    "    sigma.append( D_sort[i][k+1] )\n",
    "\n",
    "\n",
    "\n",
    "#show distribution of k-nearest neighbors\n",
    "\n",
    "plt.hist(sigma)\n",
    "plt.title('Distribution of distance to k-NN')\n",
    "plt.gcf().set_size_inches(6,4)"
   ]
  },
  {
   "cell_type": "markdown",
   "metadata": {
    "hideCode": false,
    "hidePrompt": false
   },
   "source": [
    "### eigendecomposition"
   ]
  },
  {
   "cell_type": "code",
   "execution_count": 4,
   "metadata": {
    "hideCode": true,
    "hidePrompt": false
   },
   "outputs": [],
   "source": [
    "def diffuse(D, sigma, neigen, t):\n",
    "    \n",
    "    n=len(D[0])\n",
    "    \n",
    "    K=get_K(D, sigma)\n",
    "    \n",
    "    v=get_v(K)\n",
    "    \n",
    "    A=get_A(K, v)    #symmetric graph Laplacian\n",
    "    \n",
    "    [psi, phi, eigenvals]=get_psiphi(A)    #eigenvectors,eigenvalues of Markov matrix\n",
    "\n",
    "    P = get_P(eigenvals, neigen, psi, t)    #non-trivial diffusion coords\n",
    "\n",
    "    \n",
    "    return P, eigenvals, psi, phi"
   ]
  },
  {
   "cell_type": "code",
   "execution_count": 5,
   "metadata": {
    "hideCode": true,
    "hidePrompt": false
   },
   "outputs": [],
   "source": [
    "def get_K(D, sigma):\n",
    "    list1=[]\n",
    "\n",
    "    for i in range(n):\n",
    "        for j in range(n):\n",
    "            list1.append( exp(-D[i][j]*D[i][j]/(sigma[i]*sigma[j])) )\n",
    "    K = array(list1).reshape(n, n)\n",
    "    \n",
    "    return K"
   ]
  },
  {
   "cell_type": "code",
   "execution_count": 6,
   "metadata": {
    "hideCode": true,
    "hidePrompt": false
   },
   "outputs": [],
   "source": [
    "def get_v(K):\n",
    "    list1=[]\n",
    "    \n",
    "    for i in range(n):\n",
    "        list1.append( sqrt(sum(K[i])) )\n",
    "    v = array(list1).reshape(n,1)\n",
    "    \n",
    "    return v"
   ]
  },
  {
   "cell_type": "code",
   "execution_count": 7,
   "metadata": {
    "hideCode": true,
    "hidePrompt": false
   },
   "outputs": [],
   "source": [
    "from scipy.sparse import csr_matrix\n",
    "\n",
    "def get_A(K, v):\n",
    "    list1=[]\n",
    "    \n",
    "    A = K/(v*v.T)\n",
    "    threshold = 5e-6\n",
    "    \n",
    "    for i in range(n):\n",
    "        for j in range(n):\n",
    "            if A[i][j]>threshold:\n",
    "                list1.append(1.)\n",
    "            else: list1.append(0.)\n",
    "    b = array(list1).reshape(n, n)\n",
    "    \n",
    "    A = csr_matrix(A*b, dtype=float)\n",
    "    \n",
    "    return A"
   ]
  },
  {
   "cell_type": "code",
   "execution_count": 8,
   "metadata": {
    "hideCode": true,
    "hidePrompt": false
   },
   "outputs": [],
   "source": [
    "from scipy.sparse.linalg import svds\n",
    "\n",
    "def get_psiphi(A):\n",
    "    list1=[]\n",
    "    list2=[]\n",
    "    \n",
    "    [U, S, V] = svds(A,neigen+1)\n",
    "    \n",
    "    eigenvals = flip(S).reshape(neigen+1,1)\n",
    "    for i in range(n): U[i]=flip(U[i])\n",
    "    \n",
    "    for i in range(n):\n",
    "        for j in range(neigen+1):\n",
    "            list1.append(U[i][j]/U[i][0])\n",
    "            list2.append(U[i][j]*U[i][0])\n",
    "    psi = array(list1).reshape(n, neigen+1) #right eigenvectors\n",
    "    phi = array(list2).reshape(n, neigen+1) #left eigenvectors\n",
    "    \n",
    "    \n",
    "    return [psi, phi, eigenvals]"
   ]
  },
  {
   "cell_type": "code",
   "execution_count": 9,
   "metadata": {
    "hideCode": true,
    "hidePrompt": false
   },
   "outputs": [],
   "source": [
    "def get_P(eigenvals, neigen, psi, t):\n",
    "    list1=[]\n",
    "    list2=[]\n",
    "    list3=[]\n",
    "    list4=[]\n",
    "    \n",
    "    \n",
    "    if t!=0:\n",
    "        for i in range(n):\n",
    "            for j in range(1, len(eigenvals)):\n",
    "                list1.append( pow(eigenvals[j], t) )\n",
    "        lambda_t = array(list1).reshape(n, len(eigenvals)-1)\n",
    "\n",
    "        if neigen==0:\n",
    "            for i in range(len(eigenvals)):\n",
    "                list2.append( lambda_t[0][i])/(lambda_t[0][0] )\n",
    "            lam = array(list2)\n",
    "            \n",
    "            for i in range(len(eigenvals)):\n",
    "                if lam[i]<0.05: list3.append(lam[i])\n",
    "            neigen = min(list3)\n",
    "            neigen = min(neigen, 50)\n",
    "        \n",
    "        for i in range(n):\n",
    "            for j in range(neigen):\n",
    "                list4.append(psi[i][j+1]*lambda_t[i][j])\n",
    "        P = array(list4).reshape(n, neigen)\n",
    "    else:\n",
    "        for i in range(n):\n",
    "            for j in range(1, len(eigenvals)):\n",
    "                list1.append( eigenvals[j]/(1-eigenvals[j]) )\n",
    "        lambda_multi = array(list1).reshape(n, len(eigenvals)-1)\n",
    "        \n",
    "        if neigen==0:\n",
    "            for i in range(len(eigenvals)):\n",
    "                list2.append( lambda_multi[0][i])/(lambda_t[0][0] )\n",
    "            lam = array(list2)\n",
    "            \n",
    "            for i in range(len(eigenvals)):\n",
    "                if lam[i]<0.05: list3.append(lam[i])\n",
    "            neigen = min(list3)\n",
    "            neigen = min(neigen, 50)\n",
    "        \n",
    "        for i in range(n):\n",
    "            for j in range(neigen):\n",
    "                list4.append(psi[i][j+1]*lambda_multi[i][j])\n",
    "        P = array(list4).reshape(n, neigen)\n",
    "    \n",
    "\n",
    "    return P"
   ]
  },
  {
   "cell_type": "code",
   "execution_count": 10,
   "metadata": {
    "hideCode": false,
    "hidePrompt": false
   },
   "outputs": [],
   "source": [
    "P, eigenvals, psi, phi = diffuse(D, sigma, neigen, t)"
   ]
  },
  {
   "cell_type": "markdown",
   "metadata": {
    "hideCode": false,
    "hidePrompt": false
   },
   "source": [
    "### fall-off of eigenvalues"
   ]
  },
  {
   "cell_type": "code",
   "execution_count": 11,
   "metadata": {
    "hideCode": false,
    "hidePrompt": false
   },
   "outputs": [
    {
     "data": {
      "image/png": "[encoded data removed]",
      "text/plain": [
       "<Figure size 432x144 with 1 Axes>"
      ]
     },
     "metadata": {
      "needs_background": "light"
     },
     "output_type": "display_data"
    },
    {
     "data": {
      "image/png": "[encoded data removed]",
      "text/plain": [
       "<Figure size 432x144 with 1 Axes>"
      ]
     },
     "metadata": {
      "needs_background": "light"
     },
     "output_type": "display_data"
    }
   ],
   "source": [
    "plt.plot(eigenvals[1:neigen+1])\n",
    "plt.gcf().set_size_inches(6,2)\n",
    "plt.ylabel('Eigenvalues lambda')\n",
    "plt.title('Fall-off of eigenvalues')\n",
    "plt.show()\n",
    "\n",
    "if flag_t:\n",
    "    plt.plot(pow(eigenvals[1:neigen+1], t))\n",
    "    plt.gcf().set_size_inches(6,2)\n",
    "    plt.ylabel('lambda^t')\n",
    "    plt.show()\n",
    "else:\n",
    "    lambda_multi=eigenvals[1:neigen+1]/(1-eigenvals[1:neigen+1]) \n",
    "    plt.plot(lambda_multi)\n",
    "    plt.gcf().set_size_inches(6,2)\n",
    "    ylabel('lambda / (1-lambda)')\n",
    "    plt.show()"
   ]
  },
  {
   "cell_type": "markdown",
   "metadata": {
    "hideCode": false,
    "hidePrompt": false
   },
   "source": [
    "### Diffusion map"
   ]
  },
  {
   "cell_type": "code",
   "execution_count": 12,
   "metadata": {
    "hideCode": false,
    "hidePrompt": false
   },
   "outputs": [
    {
     "data": {
      "image/png": "[encoded data removed]",
      "text/plain": [
       "<Figure size 432x288 with 1 Axes>"
      ]
     },
     "metadata": {
      "needs_background": "light"
     },
     "output_type": "display_data"
    }
   ],
   "source": [
    "from mpl_toolkits.mplot3d import Axes3D\n",
    "\n",
    "fig = plt.figure()\n",
    "ax = Axes3D(fig)\n",
    "for i in range(len(P)):\n",
    "    ax.scatter(P[i][0],P[i][1],P[i][2],s=2, c='b')\n",
    "    \n",
    "ax.set_title('Embedding with first 3 diffusion coordinates')\n",
    "plt.show()"
   ]
  },
  {
   "cell_type": "markdown",
   "metadata": {
    "hideCode": false,
    "hidePrompt": false
   },
   "source": [
    "### diffusion k-means"
   ]
  },
  {
   "cell_type": "code",
   "execution_count": 13,
   "metadata": {
    "hideCode": false,
    "hidePrompt": false
   },
   "outputs": [],
   "source": [
    "#set parameters\n",
    "\n",
    "\n",
    "k=5\n",
    "Niter=100\n",
    "epsilon=1e-3\n",
    "\n",
    "list1=[]\n",
    "for i in range(n):\n",
    "    list1.append(phi[i][0])\n",
    "phi0=array(list1).reshape(n,1)"
   ]
  },
  {
   "cell_type": "code",
   "execution_count": 14,
   "metadata": {
    "hideCode": true,
    "hidePrompt": false
   },
   "outputs": [],
   "source": [
    "from math import ceil\n",
    "import random as rnd\n",
    "\n",
    "def diffusion_kmeans(P, k, phi0, Niter, epsilon):\n",
    "    \n",
    "    n=len(P)\n",
    "    d=len(P[0])\n",
    "    aD=Inf\n",
    "\n",
    "    for i in range(Niter):\n",
    "        tmp_ind = rnd.sample(range(n), k)\n",
    "        \n",
    "        list1=[]\n",
    "        for p in tmp_ind:\n",
    "            for q in range(d):\n",
    "                list1.append(P[p-1][q])\n",
    "        c_0 = array(list1).reshape(k, d)\n",
    "    \n",
    "        idx, c, cindex, D, DX = distortionMinimization(P, phi0, k, c_0, 0, epsilon)\n",
    "\n",
    "        if D<aD:\n",
    "            aD=D\n",
    "            aDX=DX\n",
    "            a_idx=idx\n",
    "            ac=c\n",
    "    D=aD\n",
    "    DX=aDX\n",
    "    idx=a_idx\n",
    "    C=ac\n",
    "    \n",
    "    return idx, C, D, DX"
   ]
  },
  {
   "cell_type": "code",
   "execution_count": 15,
   "metadata": {
    "hideCode": true,
    "hidePrompt": false
   },
   "outputs": [],
   "source": [
    "def distortionMinimization(P, phi0, k, c_0, DspFlag, epsilon):\n",
    "    list1=[]\n",
    "    list2=[]\n",
    "    list3=[]\n",
    "    \n",
    "    \n",
    "    n=len(P)\n",
    "    d=len(P[0])\n",
    "    c=c_0\n",
    "    oldD=Inf\n",
    "    MaxIter=1000\n",
    "    \n",
    "    for i in range(MaxIter):\n",
    "        for j in range(k):\n",
    "            for p in range(n):\n",
    "                for q in range(d):\n",
    "                    list1.append(P[p][q]-c[j][q])\n",
    "            dX = (array(list1).reshape(n,d)).T    #dX=dX.T\n",
    "            list1.clear()\n",
    "            \n",
    "            list2.append(sum(dX.conj()*dX,axis=0))\n",
    "        DX = (array(list2).reshape(k,n)).T\n",
    "        list2.clear()\n",
    "        \n",
    "        for j in range(n):\n",
    "            list1.append(min(DX[j]))\n",
    "            list2.append(argmin(DX[j])+1)\n",
    "        Dtmp = array(list1).reshape(1,n)\n",
    "        S = array(list2).reshape(n,1)\n",
    "        \n",
    "        list1.clear()\n",
    "        list2.clear()\n",
    "        \n",
    "        ind=[]\n",
    "        for j in range(k):\n",
    "            for p in range(n):\n",
    "                if S[p]==j+1: ind.append(p)\n",
    "            if len(ind)==0:\n",
    "                mx = max(Dtmp[0])\n",
    "                m = argmax(Dtmp[0])\n",
    "                S[m][0] = j+1\n",
    "                Dtmp[0][m] = 0\n",
    "            ind.clear()\n",
    "\n",
    "        for j in range(k):\n",
    "            for p in range(n):\n",
    "                if S[p]==j+1: ind.append(p)\n",
    "            for p in range(d):\n",
    "                tempsum=0\n",
    "                for q in ind:\n",
    "                    tempsum += phi0[q][0]\n",
    "                tempsum2=0\n",
    "                for q in ind:\n",
    "                    tempsum2 += phi0[q][0]*P[q][p]/tempsum\n",
    "                list3.append(tempsum2)\n",
    "            ind.clear()\n",
    "        c = array(list3).reshape(k,d)\n",
    "        \n",
    "        list3.clear()\n",
    "        \n",
    "        D = dot(Dtmp, phi0)\n",
    "        \n",
    "        \n",
    "        \"\"\"\n",
    "        #plot results\n",
    "        \n",
    "        for j in range(len(D)*len(D[0])):list3.append(Inf)\n",
    "        oldD = array(list3).reshape(len(D), len(D[0]))\n",
    "        \n",
    "        list1.clear()\n",
    "        list2.clear()\n",
    "        list3.clear()\n",
    "        \"\"\"\n",
    "        \n",
    "        \n",
    "        if (oldD-D)/D < epsilon: break\n",
    "        oldD=D\n",
    "        \n",
    "        \n",
    "    for j in range(k):\n",
    "        for p in range(n):\n",
    "            for q in range(d):\n",
    "                list1.append(P[p][q]-c[j][q])\n",
    "        dX = (array(list1).reshape(n,d)).T    #dX=dX.T\n",
    "        list1.clear()\n",
    "  \n",
    "        list2.append(sum(dX.conj()*dX,axis=0))\n",
    "        DX = array(list2).reshape(n,1)\n",
    "        list2.clear()\n",
    "            \n",
    "        dummy = min(DX.T[0])\n",
    "        list3.append( argmin(DX.T[0]) )\n",
    "    cindex = array(list3).reshape(k,1)\n",
    "    \n",
    "    \n",
    "    return S, c, cindex, D, DX"
   ]
  },
  {
   "cell_type": "code",
   "execution_count": 16,
   "metadata": {
    "hideCode": false,
    "hidePrompt": false
   },
   "outputs": [],
   "source": [
    "idx, C, ERR, DX = diffusion_kmeans(P, k, phi0, Niter, epsilon)"
   ]
  },
  {
   "cell_type": "markdown",
   "metadata": {
    "hideCode": false,
    "hidePrompt": false
   },
   "source": [
    "### k-means labeling"
   ]
  },
  {
   "cell_type": "code",
   "execution_count": 17,
   "metadata": {
    "hideCode": false,
    "hidePrompt": false
   },
   "outputs": [
    {
     "data": {
      "image/png": "[encoded data removed]",
      "text/plain": [
       "<Figure size 432x432 with 1 Axes>"
      ]
     },
     "metadata": {
      "needs_background": "light"
     },
     "output_type": "display_data"
    }
   ],
   "source": [
    "cmap = cm.brg\n",
    "norm = Normalize(1, k)\n",
    "\n",
    "for i in range(n):\n",
    "    plt.scatter(ori['data'][i][0], ori['data'][i][1], s=2, c=cmap(norm(idx[i])) )\n",
    "\n",
    "plt.title('K-means with K=4')\n",
    "plt.gcf().set_size_inches(6,6)\n",
    "plt.show()"
   ]
  },
  {
   "cell_type": "code",
   "execution_count": null,
   "metadata": {
    "hideCode": false,
    "hidePrompt": false
   },
   "outputs": [],
   "source": []
  }
 ],
 "metadata": {
  "hide_code_all_hidden": false,
  "kernelspec": {
   "display_name": "Python 3",
   "language": "python",
   "name": "python3"
  },
  "language_info": {
   "codemirror_mode": {
    "name": "ipython",
    "version": 3
   },
   "file_extension": ".py",
   "mimetype": "text/x-python",
   "name": "python",
   "nbconvert_exporter": "python",
   "pygments_lexer": "ipython3",
   "version": "3.7.3"
  }
 },
 "nbformat": 4,
 "nbformat_minor": 2
}
